{
 "cells": [
  {
   "cell_type": "code",
   "execution_count": 44,
   "metadata": {},
   "outputs": [],
   "source": [
    "def netIncome(Current_Salary , Income_Tax_Ratio = 2):\n",
    "    \"\"\"\n",
    "    netIncome(Current Salary)\n",
    "    netIncome(Current Salary, Income_Tax_Ratio)\n",
    "    Salary is calculated according to given formula i.e\n",
    "    net_salary = (current_Salary) - (Current_Salary * Income_Tax_Ratio%)\n",
    "\n",
    "    Argument(s) may be in int or strings or float.\n",
    "\n",
    "    With a single argument i.e current salary,\n",
    "    return net salary with the deduction of 2% income tax from the given current salary.\n",
    "\n",
    "    With two arguments, the second argument replaces the default value for income tax %reduction,\n",
    "    and return the net salary.\n",
    "    \n",
    "    \"\"\"\n",
    "   # if TypeError:\n",
    "    #        print (\"Argument can only be of type (int) or (str)! \\nor \\nYou have entered more than two arguments!\")\n",
    "     #       return\n",
    "    \n",
    "    if type(Current_Salary) == (str) or type(Income_Tax_Ratio) == (str):  #accepts value in strings \n",
    "        Current_Salary = float(Current_Salary)\n",
    "        Income_Tax_Ratio = float(Income_Tax_Ratio)\n",
    "        \n",
    "    if Current_Salary < 0:                                           #for negetive Current_Salary\n",
    "        raise ValueError (\"Salary cannot be negetive\")\n",
    "\n",
    "    else:                                                                 #calculates net_salary\n",
    "        Net_Salary = (Current_Salary)-(Current_Salary * Income_Tax_Ratio/100.0)\n",
    "        return Net_Salary"
   ]
  },
  {
   "cell_type": "code",
   "execution_count": 47,
   "metadata": {},
   "outputs": [
    {
     "ename": "ValueError",
     "evalue": "Salary cannot be negetive",
     "output_type": "error",
     "traceback": [
      "\u001b[0;31m---------------------------------------------------------------------------\u001b[0m",
      "\u001b[0;31mValueError\u001b[0m                                Traceback (most recent call last)",
      "\u001b[0;32m<ipython-input-47-bfe53e98f550>\u001b[0m in \u001b[0;36m<module>\u001b[0;34m()\u001b[0m\n\u001b[0;32m----> 1\u001b[0;31m \u001b[0mnetIncome\u001b[0m\u001b[0;34m(\u001b[0m\u001b[0;34m\"-125000\"\u001b[0m\u001b[0;34m)\u001b[0m\u001b[0;34m\u001b[0m\u001b[0m\n\u001b[0m",
      "\u001b[0;32m<ipython-input-44-b06313e57e96>\u001b[0m in \u001b[0;36mnetIncome\u001b[0;34m(Current_Salary, Income_Tax_Ratio)\u001b[0m\n\u001b[1;32m     24\u001b[0m \u001b[0;34m\u001b[0m\u001b[0m\n\u001b[1;32m     25\u001b[0m     \u001b[0;32mif\u001b[0m \u001b[0mCurrent_Salary\u001b[0m \u001b[0;34m<\u001b[0m \u001b[0;36m0\u001b[0m\u001b[0;34m:\u001b[0m                                           \u001b[0;31m#for negetive Current_Salary\u001b[0m\u001b[0;34m\u001b[0m\u001b[0m\n\u001b[0;32m---> 26\u001b[0;31m         \u001b[0;32mraise\u001b[0m \u001b[0mValueError\u001b[0m \u001b[0;34m(\u001b[0m\u001b[0;34m\"Salary cannot be negetive\"\u001b[0m\u001b[0;34m)\u001b[0m\u001b[0;34m\u001b[0m\u001b[0m\n\u001b[0m\u001b[1;32m     27\u001b[0m \u001b[0;34m\u001b[0m\u001b[0m\n\u001b[1;32m     28\u001b[0m     \u001b[0;32melse\u001b[0m\u001b[0;34m:\u001b[0m                                                                 \u001b[0;31m#calculates net_salary\u001b[0m\u001b[0;34m\u001b[0m\u001b[0m\n",
      "\u001b[0;31mValueError\u001b[0m: Salary cannot be negetive"
     ]
    }
   ],
   "source": [
    "netIncome(\"125000\")"
   ]
  },
  {
   "cell_type": "code",
   "execution_count": 48,
   "metadata": {
    "scrolled": true
   },
   "outputs": [
    {
     "name": "stdout",
     "output_type": "stream",
     "text": [
      "Help on function netIncome in module __main__:\n",
      "\n",
      "netIncome(Current_Salary, Income_Tax_Ratio=2)\n",
      "    netIncome(Current Salary)\n",
      "    netIncome(Current Salary, Income_Tax_Ratio)\n",
      "    Salary is calculated according to given formula i.e\n",
      "    net_salary = (current_Salary) - (Current_Salary * Income_Tax_Ratio%)\n",
      "    \n",
      "    Argument(s) may be in int or strings or float.\n",
      "    \n",
      "    With a single argument i.e current salary,\n",
      "    return net salary with the deduction of 2% income tax from the given current salary.\n",
      "    \n",
      "    With two arguments, the second argument replaces the default value for income tax %reduction,\n",
      "    and return the net salary.\n",
      "\n"
     ]
    }
   ],
   "source": [
    "help(netIncome)"
   ]
  },
  {
   "cell_type": "code",
   "execution_count": 8,
   "metadata": {},
   "outputs": [
    {
     "data": {
      "text/plain": [
       "24500.0"
      ]
     },
     "execution_count": 8,
     "metadata": {},
     "output_type": "execute_result"
    }
   ],
   "source": [
    "netIncome(\"25000\")"
   ]
  },
  {
   "cell_type": "code",
   "execution_count": null,
   "metadata": {
    "collapsed": true
   },
   "outputs": [],
   "source": []
  }
 ],
 "metadata": {
  "kernelspec": {
   "display_name": "Python 3",
   "language": "python",
   "name": "python3"
  },
  "language_info": {
   "codemirror_mode": {
    "name": "ipython",
    "version": 3
   },
   "file_extension": ".py",
   "mimetype": "text/x-python",
   "name": "python",
   "nbconvert_exporter": "python",
   "pygments_lexer": "ipython3",
   "version": "3.6.3"
  }
 },
 "nbformat": 4,
 "nbformat_minor": 2
}
