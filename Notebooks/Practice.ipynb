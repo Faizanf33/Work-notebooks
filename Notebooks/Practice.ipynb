{
 "cells": [
  {
   "cell_type": "code",
   "execution_count": null,
   "metadata": {
    "collapsed": true
   },
   "outputs": [],
   "source": [
    "from math import sqrt"
   ]
  },
  {
   "cell_type": "code",
   "execution_count": null,
   "metadata": {},
   "outputs": [],
   "source": [
    "2 + 2"
   ]
  },
  {
   "cell_type": "code",
   "execution_count": null,
   "metadata": {},
   "outputs": [],
   "source": [
    "2 == 2"
   ]
  },
  {
   "cell_type": "code",
   "execution_count": null,
   "metadata": {
    "collapsed": true
   },
   "outputs": [],
   "source": [
    "def square_root():\n",
    "    n = input(\"Number = \")\n",
    "    if int(n) < 0:\n",
    "        return \"Please enter a positive number!\"\n",
    "    else:\n",
    "        sqr = sqrt(int(n))\n",
    "        rnd = round(sqrt(int(n)))\n",
    "    print (\"Square root of\",n,\"is\",sqr,\"\\nRounded to\",rnd)"
   ]
  },
  {
   "cell_type": "code",
   "execution_count": null,
   "metadata": {},
   "outputs": [],
   "source": [
    "square_root()"
   ]
  },
  {
   "cell_type": "code",
   "execution_count": null,
   "metadata": {
    "collapsed": true
   },
   "outputs": [],
   "source": [
    "def salary_calculator():\n",
    "    Total_Sal = 0\n",
    "    Sal = input(\"Enter salary in $ \")\n",
    "    Total_Sal += Sal\n",
    "    Experience = int(input(\"Enter Year's of Experience \"))\n",
    "    if Experience <= 5:\n",
    "        Exp = 10 * Experience\n",
    "        print \"Bonus = $\",Exp\n",
    "        Total_Sal += Exp\n",
    "    elif Experience > 5:\n",
    "        Exp = (10 * 5) + ((Experience - 5) * 20)\n",
    "        print \"Bonus = $\",Exp\n",
    "        Total_Sal += Exp\n",
    "    Com = round(input (\"Enter Sale Amount \"))\n",
    "    if Com >= 5000 and Com < 10000:\n",
    "        com = round(Com * 0.03)\n",
    "        print \"Commision = $\",com\n",
    "        Total_Sal += com\n",
    "    elif Com >=10000:\n",
    "        com = round(Com * 0.06)\n",
    "        print \"Commision = $\",com\n",
    "        Total_Sal += com\n",
    "    else:\n",
    "        print \"Commission = $ 0.0\"\n",
    "    print \"Total Salary = $\",Total_Sal"
   ]
  },
  {
   "cell_type": "code",
   "execution_count": null,
   "metadata": {},
   "outputs": [],
   "source": [
    "salary_calculator()"
   ]
  },
  {
   "cell_type": "code",
   "execution_count": null,
   "metadata": {
    "collapsed": true
   },
   "outputs": [],
   "source": [
    "def is_prime(n):\n",
    "    if n%1 == 0 and n%n == 0: \n",
    "        return True\n",
    "    elif n%2 != 0 and n%3 != 0:\n",
    "        \n",
    "    else:\n",
    "        return False"
   ]
  },
  {
   "cell_type": "code",
   "execution_count": null,
   "metadata": {},
   "outputs": [],
   "source": [
    "is_prime(116)"
   ]
  },
  {
   "cell_type": "code",
   "execution_count": null,
   "metadata": {},
   "outputs": [],
   "source": [
    "max( 3 , 2)"
   ]
  },
  {
   "cell_type": "code",
   "execution_count": null,
   "metadata": {},
   "outputs": [],
   "source": [
    "min(2,-1)"
   ]
  },
  {
   "cell_type": "code",
   "execution_count": null,
   "metadata": {},
   "outputs": [],
   "source": [
    "n = (1,2,3,4,5,6,7,7,8,9,0)\n",
    "sum(n)"
   ]
  },
  {
   "cell_type": "code",
   "execution_count": null,
   "metadata": {},
   "outputs": [],
   "source": [
    "sum([1,2])"
   ]
  },
  {
   "cell_type": "code",
   "execution_count": null,
   "metadata": {},
   "outputs": [],
   "source": [
    "for i in range(1,21):\n",
    "    print i"
   ]
  },
  {
   "cell_type": "code",
   "execution_count": null,
   "metadata": {
    "collapsed": true
   },
   "outputs": [],
   "source": [
    "def fibnew(n):\n",
    "    if n <=1 :\n",
    "        return n\n",
    "    \n",
    "    a,b = 0,1\n",
    "    for i in range(1, 8):\n",
    "        a,b = b,a+b\n",
    "    return a"
   ]
  },
  {
   "cell_type": "code",
   "execution_count": null,
   "metadata": {},
   "outputs": [],
   "source": [
    "%time fibnew(1000)"
   ]
  },
  {
   "cell_type": "code",
   "execution_count": 1,
   "metadata": {},
   "outputs": [
    {
     "name": "stdout",
     "output_type": "stream",
     "text": [
      "9227465\n",
      "CPU times: user 16.5 s, sys: 0 ns, total: 16.5 s\n",
      "Wall time: 16.5 s\n"
     ]
    }
   ],
   "source": [
    "def fibslow(n):\n",
    "    if n== 0 or n==1:\n",
    "        return n\n",
    "    \n",
    "    else:\n",
    "        return fibslow(n-1)+fibslow(n-2)\n",
    "    \n",
    "%time print (fibslow(35))\n"
   ]
  },
  {
   "cell_type": "code",
   "execution_count": 65,
   "metadata": {},
   "outputs": [],
   "source": [
    "def converter(num, base):\n",
    "    rem = 0.0\n",
    "    if (num%base) >= (base-1):\n",
    "        num = (num//base)\n",
    "        if (num%base) == 10:\n",
    "            print (\"A\")\n",
    "        elif (num%base) == 11:\n",
    "            print(\"B\")\n",
    "        elif (num%base) == 12:\n",
    "            print(\"C\")\n",
    "        elif (num%base) == 13:\n",
    "            print(\"D\")\n",
    "        elif (num%base) == 14:\n",
    "            print(\"E\")\n",
    "        elif (num%base) == 15:\n",
    "            print(\"F\")\n",
    "        \n",
    "\n",
    "converter(28,16)"
   ]
  },
  {
   "cell_type": "code",
   "execution_count": 70,
   "metadata": {},
   "outputs": [],
   "source": [
    "def cnvrt(num,base):\n",
    "    if (num%base) == 10:\n",
    "        print (\"A\")\n",
    "    elif (num%base) == 11:\n",
    "        print(\"B\")\n",
    "    elif (num%base) == 12:\n",
    "        print(\"C\")\n",
    "    elif (num%base) == 13:\n",
    "        print(\"D\")\n",
    "    elif (num%base) == 14:\n",
    "        print(\"E\")\n",
    "    elif (num%base) == 15:\n",
    "        print(\"F\")\n",
    "    if num == (base-1):\n",
    "        print (num%base)\n",
    "    else:\n",
    "        return cnvrt(num//base,base)"
   ]
  },
  {
   "cell_type": "code",
   "execution_count": 71,
   "metadata": {},
   "outputs": [
    {
     "name": "stderr",
     "output_type": "stream",
     "text": [
      "ERROR:root:Internal Python error in the inspect module.\n",
      "Below is the traceback from this internal error.\n",
      "\n"
     ]
    },
    {
     "name": "stdout",
     "output_type": "stream",
     "text": [
      "Traceback (most recent call last):\n",
      "  File \"/home/faizanf33/anaconda2/envs/ipykernel_py3/lib/python3.6/site-packages/IPython/core/interactiveshell.py\", line 2862, in run_code\n",
      "    exec(code_obj, self.user_global_ns, self.user_ns)\n",
      "  File \"<ipython-input-71-22a83d37237a>\", line 1, in <module>\n",
      "    cnvrt(28,11)\n",
      "  File \"<ipython-input-70-6905b7d66983>\", line 17, in cnvrt\n",
      "    return cnvrt(num//base,base)\n",
      "  File \"<ipython-input-70-6905b7d66983>\", line 17, in cnvrt\n",
      "    return cnvrt(num//base,base)\n",
      "  File \"<ipython-input-70-6905b7d66983>\", line 17, in cnvrt\n",
      "    return cnvrt(num//base,base)\n",
      "  [Previous line repeated 1967 more times]\n",
      "  File \"<ipython-input-70-6905b7d66983>\", line 2, in cnvrt\n",
      "    if (num%base) == 10:\n",
      "RecursionError: maximum recursion depth exceeded in comparison\n",
      "\n",
      "During handling of the above exception, another exception occurred:\n",
      "\n",
      "Traceback (most recent call last):\n",
      "  File \"/home/faizanf33/anaconda2/envs/ipykernel_py3/lib/python3.6/site-packages/IPython/core/interactiveshell.py\", line 1806, in showtraceback\n",
      "    stb = value._render_traceback_()\n",
      "AttributeError: 'RecursionError' object has no attribute '_render_traceback_'\n",
      "\n",
      "During handling of the above exception, another exception occurred:\n",
      "\n",
      "Traceback (most recent call last):\n",
      "  File \"/home/faizanf33/anaconda2/envs/ipykernel_py3/lib/python3.6/site-packages/IPython/core/ultratb.py\", line 1090, in get_records\n",
      "    return _fixed_getinnerframes(etb, number_of_lines_of_context, tb_offset)\n",
      "  File \"/home/faizanf33/anaconda2/envs/ipykernel_py3/lib/python3.6/site-packages/IPython/core/ultratb.py\", line 311, in wrapped\n",
      "    return f(*args, **kwargs)\n",
      "  File \"/home/faizanf33/anaconda2/envs/ipykernel_py3/lib/python3.6/site-packages/IPython/core/ultratb.py\", line 345, in _fixed_getinnerframes\n",
      "    records = fix_frame_records_filenames(inspect.getinnerframes(etb, context))\n",
      "  File \"/home/faizanf33/anaconda2/envs/ipykernel_py3/lib/python3.6/inspect.py\", line 1480, in getinnerframes\n",
      "    frameinfo = (tb.tb_frame,) + getframeinfo(tb, context)\n",
      "  File \"/home/faizanf33/anaconda2/envs/ipykernel_py3/lib/python3.6/inspect.py\", line 1442, in getframeinfo\n",
      "    lines, lnum = findsource(frame)\n",
      "  File \"/home/faizanf33/anaconda2/envs/ipykernel_py3/lib/python3.6/site-packages/IPython/core/ultratb.py\", line 165, in findsource\n",
      "    file = getsourcefile(object) or getfile(object)\n",
      "  File \"/home/faizanf33/anaconda2/envs/ipykernel_py3/lib/python3.6/inspect.py\", line 693, in getsourcefile\n",
      "    if getattr(getmodule(object, filename), '__loader__', None) is not None:\n",
      "  File \"/home/faizanf33/anaconda2/envs/ipykernel_py3/lib/python3.6/inspect.py\", line 730, in getmodule\n",
      "    if ismodule(module) and hasattr(module, '__file__'):\n",
      "KeyboardInterrupt\n"
     ]
    },
    {
     "ename": "RecursionError",
     "evalue": "maximum recursion depth exceeded in comparison",
     "output_type": "error",
     "traceback": [
      "\u001b[0;31m---------------------------------------------------------------------------\u001b[0m"
     ]
    }
   ],
   "source": [
    "cnvrt(28,11)"
   ]
  },
  {
   "cell_type": "code",
   "execution_count": null,
   "metadata": {
    "collapsed": true
   },
   "outputs": [],
   "source": []
  }
 ],
 "metadata": {
  "kernelspec": {
   "display_name": "Python 3",
   "language": "python",
   "name": "python3"
  },
  "language_info": {
   "codemirror_mode": {
    "name": "ipython",
    "version": 3
   },
   "file_extension": ".py",
   "mimetype": "text/x-python",
   "name": "python",
   "nbconvert_exporter": "python",
   "pygments_lexer": "ipython3",
   "version": "3.6.2"
  }
 },
 "nbformat": 4,
 "nbformat_minor": 2
}
