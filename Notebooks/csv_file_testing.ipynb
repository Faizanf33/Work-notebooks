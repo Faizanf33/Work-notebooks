{
 "cells": [
  {
   "cell_type": "code",
   "execution_count": 2,
   "metadata": {
    "collapsed": true
   },
   "outputs": [],
   "source": [
    "import os\n",
    "\n",
    "#os.mkdir('Data')"
   ]
  },
  {
   "cell_type": "code",
   "execution_count": 3,
   "metadata": {},
   "outputs": [],
   "source": [
    "filename = os.path.join('Data','tesing.csv')"
   ]
  },
  {
   "cell_type": "code",
   "execution_count": 4,
   "metadata": {},
   "outputs": [],
   "source": [
    "import time,datetime\n",
    "#print (time.strftime('Date:%d-%b-%Y \\nTime:%I:%M %p  Today:%A\\n'))\n",
    "d = [['Name','PIN','Amount','History'],['Faizan','6545','120.1',time.strftime('Date:%d-%b-%Y and Time:%I:%M %p')],['Ali','6545','120.1',time.strftime('Date:%d-%b-%Y and Time:%I:%M %p')]]"
   ]
  },
  {
   "cell_type": "code",
   "execution_count": 12,
   "metadata": {},
   "outputs": [
    {
     "name": "stdout",
     "output_type": "stream",
     "text": [
      "{'Name': ('PIN', 'Amount')}\n",
      "{'Name': ('PIN', 'Amount')}\n"
     ]
    }
   ],
   "source": [
    "import csv\n",
    "d = {}\n",
    "new = ['Name','PIN','Amount','History']\n",
    "with open(filename,'a+') as wr:\n",
    "    w = csv.writer(wr)\n",
    "    #for l in range(len(d)):\n",
    "    w.writerow(new)\n",
    "    wr.seek(0)\n",
    "    r = csv.reader(wr)\n",
    "    for row in r:\n",
    "        d[row[0]] = row[1],row[2]\n",
    "        print(d)"
   ]
  },
  {
   "cell_type": "code",
   "execution_count": 13,
   "metadata": {},
   "outputs": [
    {
     "data": {
      "text/plain": [
       "50"
      ]
     },
     "execution_count": 13,
     "metadata": {},
     "output_type": "execute_result"
    }
   ],
   "source": [
    "os.path.getsize(filename)"
   ]
  },
  {
   "cell_type": "code",
   "execution_count": null,
   "metadata": {
    "collapsed": true
   },
   "outputs": [],
   "source": []
  }
 ],
 "metadata": {
  "kernelspec": {
   "display_name": "Python 2",
   "language": "python",
   "name": "python2"
  },
  "language_info": {
   "codemirror_mode": {
    "name": "ipython",
    "version": 2
   },
   "file_extension": ".py",
   "mimetype": "text/x-python",
   "name": "python",
   "nbconvert_exporter": "python",
   "pygments_lexer": "ipython2",
   "version": "2.7.13"
  }
 },
 "nbformat": 4,
 "nbformat_minor": 2
}
