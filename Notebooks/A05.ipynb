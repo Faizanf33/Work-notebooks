{
 "cells": [
  {
   "cell_type": "code",
   "execution_count": 58,
   "metadata": {},
   "outputs": [
    {
     "name": "stdout",
     "output_type": "stream",
     "text": [
      "joe\n",
      "joe w\n",
      "can't\n",
      "can't w\n",
      "tell\n",
      "tell w\n",
      "between\n",
      "between w\n",
      "'large'\n",
      "'large' w\n",
      "and\n",
      "and w\n",
      "large\n",
      "large w\n",
      "\n"
     ]
    },
    {
     "data": {
      "text/plain": [
       "{\"'large'\": 1,\n",
       " 'and': 1,\n",
       " 'between': 1,\n",
       " \"can't\": 1,\n",
       " 'joe': 1,\n",
       " 'large': 1,\n",
       " 'tell': 1}"
      ]
     },
     "execution_count": 58,
     "metadata": {},
     "output_type": "execute_result"
    }
   ],
   "source": [
    "def word_count(s):\n",
    "    dict_word = {}\n",
    "    str_word = \"\"\n",
    "    #to lowercase\n",
    "    s = s.lower()\n",
    "\n",
    "    for c in s:\n",
    "\n",
    "        #for alphabets(a-z) and digits(0-9)\n",
    "        if ((ord(c) >= 48) and (ord(c) <= 57)) or ((ord(c) >= 97) and (ord(c) <= 122)) or ord(str(c)) == 39:\n",
    "            str_word += c\n",
    "\n",
    "        else:\n",
    "            str_word += \",\"\n",
    "\n",
    "    #now splitting at comma\n",
    "    list_word = str_word.split(',')\n",
    "\n",
    "    for w in list_word:\n",
    "        print w\n",
    "        if w == '':\n",
    "            continue\n",
    "        if True:\n",
    "            w1 = w.replace(str(w),w)\n",
    "            print w1,\"w\"\n",
    "            if w1 not in dict_word:\n",
    "                dict_word[w1] = 1\n",
    "            elif w1 in dict_word:\n",
    "                dict_word[w1] += 1\n",
    "        elif (w not in dict_word.keys()): #and (w not in dict_word.keys().str(w)):\n",
    "            dict_word[w] = 1\n",
    "        elif (w in dict_word.keys()): # or (w == dict_word[str(w)]):\n",
    "            dict_word[w] += 1\n",
    "\n",
    "\n",
    "    return dict_word\n",
    "word_count(\"Joe can't tell between 'large' and large.\")"
   ]
  },
  {
   "cell_type": "code",
   "execution_count": 5,
   "metadata": {},
   "outputs": [
    {
     "data": {
      "text/plain": [
       "1"
      ]
     },
     "execution_count": 5,
     "metadata": {},
     "output_type": "execute_result"
    }
   ],
   "source": [
    "d = {\n",
    "    \"'large'\" : 1,\n",
    "    'large' : 2\n",
    "}\n",
    "d[\"'large'\"]"
   ]
  },
  {
   "cell_type": "code",
   "execution_count": 159,
   "metadata": {
    "collapsed": true
   },
   "outputs": [],
   "source": [
    "s = ['Joe', \"can't\", 'tell', 'between', \"'large'\", 'and', 'large', '']\n",
    "for w in s:\n",
    "    if w == s[len(w)]:\n",
    "        print w"
   ]
  },
  {
   "cell_type": "code",
   "execution_count": 70,
   "metadata": {},
   "outputs": [
    {
     "data": {
      "text/plain": [
       "39"
      ]
     },
     "execution_count": 70,
     "metadata": {},
     "output_type": "execute_result"
    }
   ],
   "source": [
    "ord(\"'\")"
   ]
  },
  {
   "cell_type": "code",
   "execution_count": 109,
   "metadata": {},
   "outputs": [
    {
     "name": "stdout",
     "output_type": "stream",
     "text": [
      "['joe,can', 't,tell,between,', 'large', ',and,large']\n"
     ]
    }
   ],
   "source": [
    "s = \"Joe can't tell between 'large' and large.\"\n",
    "s = s.split(\"'\")\n",
    "l = []\n",
    "\n",
    "for i in s:\n",
    "    if i not in l:\n",
    "        l.append(i)\n",
    "    else:\n",
    "        continue\n",
    "print l"
   ]
  },
  {
   "cell_type": "code",
   "execution_count": 57,
   "metadata": {},
   "outputs": [
    {
     "name": "stdout",
     "output_type": "stream",
     "text": [
      "large\n",
      "large\n"
     ]
    }
   ],
   "source": [
    "s = 'large'\n",
    "print s\n",
    "s.replace(str(s),s)\n",
    "print s"
   ]
  },
  {
   "cell_type": "code",
   "execution_count": null,
   "metadata": {
    "collapsed": true
   },
   "outputs": [],
   "source": []
  }
 ],
 "metadata": {
  "kernelspec": {
   "display_name": "Python 2",
   "language": "python",
   "name": "python2"
  },
  "language_info": {
   "codemirror_mode": {
    "name": "ipython",
    "version": 2
   },
   "file_extension": ".py",
   "mimetype": "text/x-python",
   "name": "python",
   "nbconvert_exporter": "python",
   "pygments_lexer": "ipython2",
   "version": "2.7.13"
  }
 },
 "nbformat": 4,
 "nbformat_minor": 2
}
