{
 "cells": [
  {
   "cell_type": "markdown",
   "metadata": {},
   "source": [
    "# Q1 "
   ]
  },
  {
   "cell_type": "code",
   "execution_count": 15,
   "metadata": {},
   "outputs": [],
   "source": [
    "def uniqueElements(n):\n",
    "    ul = []\n",
    "    for i in n:\n",
    "        if i not in ul: \n",
    "            ul.append(i)\n",
    "        else:\n",
    "            continue\n",
    "    return ul"
   ]
  },
  {
   "cell_type": "code",
   "execution_count": 16,
   "metadata": {},
   "outputs": [
    {
     "name": "stdout",
     "output_type": "stream",
     "text": [
      "[12, 24, 35, 88, 120, 155]\n"
     ]
    }
   ],
   "source": [
    "print (uniqueElements([12, 24, 35, 24, 88, 120, 155, 88, 120, 155]))"
   ]
  },
  {
   "cell_type": "markdown",
   "metadata": {},
   "source": [
    "# Q2"
   ]
  },
  {
   "cell_type": "code",
   "execution_count": 17,
   "metadata": {},
   "outputs": [],
   "source": [
    "def hotel_cost(nights):\n",
    "    cost = nights * 140\n",
    "    return cost\n",
    "\n",
    "def plane_ride_cost(city):\n",
    "    print (\"Trip cost from Peshawar city\")\n",
    "    Cities = {\n",
    "        \"Multan\":2500,\n",
    "        \"Lahore\":1500,\n",
    "        \"Islamabad\":400,\n",
    "        \"Faisalabad\":1800,\n",
    "        \"Karachi\":3000,\n",
    "        \"Abotabad\":2200,\n",
    "        \"Gujrat\":800,\n",
    "        \"Sahiwal\":2200,\n",
    "        \"Attock\":300,\n",
    "        \"Bahawalpur\":2800,\n",
    "        \"Okara\":1500,\n",
    "        \"Sialkot\":3000,\n",
    "        \"Gujranwala\":2400\n",
    "    }\n",
    "    if city in Cities.keys():\n",
    "        return Cities[city]\n",
    "    \n",
    "\n",
    "def rental_car_cost(days):\n",
    "    cost = 40 * days\n",
    "    if days >= 3 and days < 7:\n",
    "        cost -= 20\n",
    "    elif days >= 7:\n",
    "        cost -= 50\n",
    "    return cost\n",
    "    \n",
    "def trip_cost(city, days, sm):\n",
    "    return (hotel_cost(days) + rental_car_cost(days) + plane_ride_cost(city) + sm)"
   ]
  },
  {
   "cell_type": "code",
   "execution_count": 18,
   "metadata": {},
   "outputs": [
    {
     "name": "stdout",
     "output_type": "stream",
     "text": [
      "Trip cost from Peshawar city\n",
      "6280\n"
     ]
    }
   ],
   "source": [
    "print (trip_cost(\"Islamabad\",5,5000))"
   ]
  },
  {
   "cell_type": "markdown",
   "metadata": {},
   "source": [
    "# Q3"
   ]
  },
  {
   "cell_type": "code",
   "execution_count": 19,
   "metadata": {
    "collapsed": true
   },
   "outputs": [],
   "source": [
    "def cubes(num):\n",
    "    c = pow(num,3)\n",
    "    return c\n",
    "\n",
    "def by_three(num):\n",
    "    if num%3 == 0:\n",
    "        return cubes(num)\n",
    "    else:\n",
    "        return False"
   ]
  },
  {
   "cell_type": "code",
   "execution_count": 20,
   "metadata": {},
   "outputs": [
    {
     "name": "stdout",
     "output_type": "stream",
     "text": [
      "19683\n"
     ]
    }
   ],
   "source": [
    "print (by_three(27))"
   ]
  },
  {
   "cell_type": "markdown",
   "metadata": {},
   "source": [
    "# Q4 "
   ]
  },
  {
   "cell_type": "code",
   "execution_count": 21,
   "metadata": {
    "collapsed": true
   },
   "outputs": [],
   "source": [
    "def case_calc(str):\n",
    "    uc = 0\n",
    "    lc = 0\n",
    "    for s in str:\n",
    "        if s.isupper():\n",
    "            uc += 1\n",
    "        elif s.islower():\n",
    "            lc += 1\n",
    "    return \"Upper case: \",uc ,\"Lower case: \",lc\n",
    "        "
   ]
  },
  {
   "cell_type": "code",
   "execution_count": 22,
   "metadata": {},
   "outputs": [
    {
     "name": "stdout",
     "output_type": "stream",
     "text": [
      "('Upper case: ', 9, 'Lower case: ', 12)\n"
     ]
    }
   ],
   "source": [
    "print (case_calc(\"qswwdadASDAAFAFEdeded\"))"
   ]
  },
  {
   "cell_type": "markdown",
   "metadata": {},
   "source": [
    "# Q5"
   ]
  },
  {
   "cell_type": "code",
   "execution_count": 23,
   "metadata": {
    "collapsed": true
   },
   "outputs": [],
   "source": [
    "from math import sqrt\n",
    "def hypotenuse(base, per):\n",
    "    hyp = sqrt( (base*base) + (per*per) )\n",
    "    return hyp\n",
    "    "
   ]
  },
  {
   "cell_type": "code",
   "execution_count": 24,
   "metadata": {},
   "outputs": [
    {
     "name": "stdout",
     "output_type": "stream",
     "text": [
      "10.16070863670443\n"
     ]
    }
   ],
   "source": [
    "print (hypotenuse(6,8.2))"
   ]
  }
 ],
 "metadata": {
  "kernelspec": {
   "display_name": "Python 3",
   "language": "python",
   "name": "python3"
  },
  "language_info": {
   "codemirror_mode": {
    "name": "ipython",
    "version": 3
   },
   "file_extension": ".py",
   "mimetype": "text/x-python",
   "name": "python",
   "nbconvert_exporter": "python",
   "pygments_lexer": "ipython3",
   "version": "3.6.2"
  }
 },
 "nbformat": 4,
 "nbformat_minor": 2
}
