{
 "cells": [
  {
   "cell_type": "markdown",
   "metadata": {},
   "source": [
    "# Creating new file "
   ]
  },
  {
   "cell_type": "code",
   "execution_count": 1,
   "metadata": {
    "collapsed": true
   },
   "outputs": [],
   "source": [
    "import os"
   ]
  },
  {
   "cell_type": "code",
   "execution_count": 6,
   "metadata": {},
   "outputs": [
    {
     "data": {
      "text/plain": [
       "'/home/faizanf33/Notebooks'"
      ]
     },
     "execution_count": 6,
     "metadata": {},
     "output_type": "execute_result"
    }
   ],
   "source": [
    "os.getcwd()"
   ]
  },
  {
   "cell_type": "code",
   "execution_count": 7,
   "metadata": {
    "collapsed": true
   },
   "outputs": [],
   "source": [
    "os.mkdir('Task')"
   ]
  },
  {
   "cell_type": "code",
   "execution_count": 8,
   "metadata": {
    "collapsed": true
   },
   "outputs": [],
   "source": [
    "os.chdir('Task')"
   ]
  },
  {
   "cell_type": "code",
   "execution_count": 12,
   "metadata": {},
   "outputs": [
    {
     "data": {
      "text/plain": [
       "'/home/faizanf33/Notebooks/Task'"
      ]
     },
     "execution_count": 12,
     "metadata": {},
     "output_type": "execute_result"
    }
   ],
   "source": [
    "os.getcwd()"
   ]
  },
  {
   "cell_type": "code",
   "execution_count": 15,
   "metadata": {},
   "outputs": [],
   "source": [
    "os.chdir('..')"
   ]
  },
  {
   "cell_type": "code",
   "execution_count": 16,
   "metadata": {},
   "outputs": [
    {
     "data": {
      "text/plain": [
       "'/home/faizanf33/Notebooks'"
      ]
     },
     "execution_count": 16,
     "metadata": {},
     "output_type": "execute_result"
    }
   ],
   "source": [
    "os.getcwd()"
   ]
  },
  {
   "cell_type": "code",
   "execution_count": 31,
   "metadata": {},
   "outputs": [
    {
     "name": "stdout",
     "output_type": "stream",
     "text": [
      "Ali \n",
      "Ahsan \n",
      "Faizan \n",
      "Ahmed \n",
      "Usama \n",
      "Daniyal \n",
      "Ather \n",
      "Nauman \n",
      "Bilal \n",
      "Qadees\n"
     ]
    }
   ],
   "source": [
    "directory = 'Task'\n",
    "file = 'names.txt'\n",
    "filename = os.path.join(directory,file)\n",
    "with open(filename,'r') as ins_file:\n",
    "    #ins_file.write('Qadees')\n",
    "    print ins_file.read()"
   ]
  },
  {
   "cell_type": "markdown",
   "metadata": {},
   "source": [
    "# Q1"
   ]
  },
  {
   "cell_type": "code",
   "execution_count": 74,
   "metadata": {},
   "outputs": [
    {
     "name": "stdout",
     "output_type": "stream",
     "text": [
      "\n",
      "Ahsan \n",
      "Faizan \n",
      "Ahmed \n",
      "Usama \n",
      "Daniyal \n",
      "Ather \n",
      "Nauman \n",
      "Bilal \n",
      "Qadees\n"
     ]
    }
   ],
   "source": [
    "with open(filename,'r') as rd:\n",
    "    rd.seek(4)\n",
    "    a_4 = rd.read()\n",
    "    print a_4"
   ]
  },
  {
   "cell_type": "markdown",
   "metadata": {},
   "source": [
    "# Q3, Q4, Q6 "
   ]
  },
  {
   "cell_type": "code",
   "execution_count": 102,
   "metadata": {},
   "outputs": [
    {
     "name": "stdout",
     "output_type": "stream",
     "text": [
      "['Ali ', 'Ahsan ', 'Faizan ', 'Ahmed ', 'Usama ', 'Daniyal ', 'Ather ', 'Nauman ', 'Bilal ', 'Qadees']\n",
      "Sum of the lengths of the names: 52\n",
      "Average of the lengths: 5.2\n"
     ]
    }
   ],
   "source": [
    "l_names = []\n",
    "s_of_name = 0\n",
    "counter = 0\n",
    "\n",
    "directory = 'Task'\n",
    "outfile = 'name_lengths.txt'\n",
    "out_filename = os.path.join(directory,outfile)\n",
    "\n",
    "with open(filename,'r') as rd:\n",
    "    l_names = rd.read()\n",
    "    l_names = l_names.split('\\n')\n",
    "    print l_names\n",
    "    for name in l_names:\n",
    "        l = len(name) - 1\n",
    "        s_of_name += l\n",
    "        counter += 1\n",
    "        \n",
    "        with open(out_filename,'a') as out:\n",
    "            out.write(str(l)+'\\n')\n",
    "            out.close()\n",
    "    print \"Sum of the lengths of the names:\",s_of_name\n",
    "    print \"Average of the lengths:\",s_of_name/float(counter)\n",
    "\n",
    "    "
   ]
  },
  {
   "cell_type": "markdown",
   "metadata": {},
   "source": [
    "# Q9 "
   ]
  },
  {
   "cell_type": "code",
   "execution_count": 117,
   "metadata": {},
   "outputs": [
    {
     "name": "stdout",
     "output_type": "stream",
     "text": [
      "Faizan \n",
      "Nauman \n"
     ]
    }
   ],
   "source": [
    "def print_name(length):\n",
    "    with open(filename,'r') as r:\n",
    "        name = r.read()\n",
    "        name = name.split('\\n')\n",
    "        for n in name:\n",
    "            if (len(n) - 1) == length:\n",
    "                print n\n",
    "            else:\n",
    "                continue\n",
    "                \n",
    "print_name(6)"
   ]
  },
  {
   "cell_type": "markdown",
   "metadata": {},
   "source": [
    "# Q7 "
   ]
  },
  {
   "cell_type": "code",
   "execution_count": 124,
   "metadata": {},
   "outputs": [],
   "source": [
    "directory = 'Task'\n",
    "outfile = 'names_sorted.txt'\n",
    "out_filename = os.path.join(directory,outfile)\n",
    "\n",
    "l_names.sort()\n",
    "for name in l_names:\n",
    "    #print name\n",
    "    with open(out_filename,'a') as rd:\n",
    "        rd.write(name+'\\n')\n"
   ]
  },
  {
   "cell_type": "code",
   "execution_count": 134,
   "metadata": {},
   "outputs": [],
   "source": [
    "#directory = 'Task'\n",
    "#outfile = 'names_sorted_by_length.txt.txt'\n",
    "#out_filename = os.path.join(directory,outfile)\n"
   ]
  },
  {
   "cell_type": "markdown",
   "metadata": {},
   "source": [
    "# Q10 "
   ]
  },
  {
   "cell_type": "code",
   "execution_count": 135,
   "metadata": {
    "collapsed": true
   },
   "outputs": [],
   "source": [
    "os.chdir('Task')"
   ]
  },
  {
   "cell_type": "code",
   "execution_count": 136,
   "metadata": {},
   "outputs": [
    {
     "data": {
      "text/plain": [
       "'/home/faizanf33/Notebooks/Task'"
      ]
     },
     "execution_count": 136,
     "metadata": {},
     "output_type": "execute_result"
    }
   ],
   "source": [
    "os.getcwd()"
   ]
  },
  {
   "cell_type": "code",
   "execution_count": 137,
   "metadata": {
    "collapsed": true
   },
   "outputs": [],
   "source": [
    "os.rename('names.txt','student.txt')"
   ]
  },
  {
   "cell_type": "code",
   "execution_count": 141,
   "metadata": {},
   "outputs": [],
   "source": [
    "os.chdir('..')"
   ]
  },
  {
   "cell_type": "code",
   "execution_count": 145,
   "metadata": {},
   "outputs": [
    {
     "data": {
      "text/plain": [
       "'/home/faizanf33/Notebooks'"
      ]
     },
     "execution_count": 145,
     "metadata": {},
     "output_type": "execute_result"
    }
   ],
   "source": [
    "os.getcwd()"
   ]
  },
  {
   "cell_type": "code",
   "execution_count": 140,
   "metadata": {},
   "outputs": [
    {
     "data": {
      "text/plain": [
       "['names_sorted.txt', 'student.txt', 'name_lengths.txt']"
      ]
     },
     "execution_count": 140,
     "metadata": {},
     "output_type": "execute_result"
    }
   ],
   "source": [
    "os.listdir('Task')"
   ]
  }
 ],
 "metadata": {
  "kernelspec": {
   "display_name": "Python 2",
   "language": "python",
   "name": "python2"
  },
  "language_info": {
   "codemirror_mode": {
    "name": "ipython",
    "version": 2
   },
   "file_extension": ".py",
   "mimetype": "text/x-python",
   "name": "python",
   "nbconvert_exporter": "python",
   "pygments_lexer": "ipython2",
   "version": "2.7.13"
  }
 },
 "nbformat": 4,
 "nbformat_minor": 2
}
