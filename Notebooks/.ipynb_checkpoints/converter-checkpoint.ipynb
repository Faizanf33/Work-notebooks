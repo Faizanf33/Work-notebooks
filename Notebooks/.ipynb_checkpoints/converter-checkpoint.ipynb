{
 "cells": [
  {
   "cell_type": "code",
   "execution_count": 10,
   "metadata": {},
   "outputs": [],
   "source": [
    "def seq_detector(seq, ptrn):\n",
    "    seq, ptrn = str(seq), str(seq)\n",
    "    ptrn_count = 0\n",
    "    c = 0\n",
    "    \n",
    "    for b in seq:\n",
    "        if b == ptrn[] and c < 4:\n",
    "            c += 1\n",
    "            continue\n",
    "        else:\n",
    "            break\n",
    "        ptrn_count += 1\n",
    "        \n",
    "    return ptrn_count\n",
    "            "
   ]
  },
  {
   "cell_type": "code",
   "execution_count": 11,
   "metadata": {},
   "outputs": [
    {
     "data": {
      "text/plain": [
       "0"
      ]
     },
     "execution_count": 11,
     "metadata": {},
     "output_type": "execute_result"
    }
   ],
   "source": [
    "seq_detector(1011111001100101,1011)"
   ]
  },
  {
   "cell_type": "code",
   "execution_count": null,
   "metadata": {
    "collapsed": true
   },
   "outputs": [],
   "source": []
  }
 ],
 "metadata": {
  "kernelspec": {
   "display_name": "Python 3",
   "language": "python",
   "name": "python3"
  },
  "language_info": {
   "codemirror_mode": {
    "name": "ipython",
    "version": 3
   },
   "file_extension": ".py",
   "mimetype": "text/x-python",
   "name": "python",
   "nbconvert_exporter": "python",
   "pygments_lexer": "ipython3",
   "version": "3.6.2"
  }
 },
 "nbformat": 4,
 "nbformat_minor": 2
}
