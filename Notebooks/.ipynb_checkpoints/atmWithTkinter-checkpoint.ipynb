{
 "cells": [
  {
   "cell_type": "code",
   "execution_count": 1,
   "metadata": {},
   "outputs": [],
   "source": [
    "import logging\n",
    "\n",
    "logging.basicConfig(format='[ATM]:[%(asctime)s]:%(levelname)s:%(message)s', datefmt='%m/%d/%Y %I:%M:%S %p', level=logging.DEBUG)\n",
    "\n",
    "class NewAccount:\n",
    "    def __init__(self, first_name, last_name, father_name, cnic, middle_name = None):\n",
    "        logging.debug(\"creating a new account\")\n",
    "        self.first_name = first_name\n",
    "        self.last_name = last_name\n",
    "        self.cnic = cnic\n",
    "        self.father_name = father_name\n",
    "        self.middle_name = middle_name\n",
    "    \n",
    "    def full_name(self):\n",
    "        logging.info(\"checking first name...\")\n",
    "        if self.first_name.isalpha():\n",
    "            logging.info(\"checking last name...\")\n",
    "            \n",
    "            if self.last_name.isalpha():\n",
    "                if self.middle_name:\n",
    "                    logging.debug(\"checking middle name {}\".format(self.middle_name))\n",
    "                \n",
    "                    if self.middle_name.isalpha():\n",
    "                        logging.debug(\"name is cheked, returning full name\")\n",
    "                        return (\"{} {} {}\".format(self.first_name, self.middle_name, self.last_name))\n",
    "            \n",
    "                    else:\n",
    "                        logging.warning(\"middle name invalid : '{}'\".format(self.middle_name))\n",
    "                        return False\n",
    "            \n",
    "                else:\n",
    "                    logging.info(\"return full name with no middle name\")\n",
    "                    return (\"{} {}\".format(self.first_name, self.last_name))\n",
    "\n",
    "            else:\n",
    "                logging.warning(\"last name invalid : '{}'\".format(self.last_name))\n",
    "                return False\n",
    "\n",
    "        else:\n",
    "            logging.warning(\"first name invalid : '{}'\".format(self.first_name))\n",
    "            return False\n",
    "\n",
    "    def cnic_check(self):\n",
    "        logging.debug(\"checking CNIC : {}\".format(self.cnic))\n",
    "        if (len(self.cnic) == 13) and (self.cnic.isdigit()):\n",
    "            return (\"{}-{}-{}\".format(self.cnic[0:5], self.cnic[5:12], self.cnic[12]))\n",
    "        \n",
    "        else:\n",
    "            logging.warning(\"invalid CNIC : {}\".format(self.cnic))\n",
    "            return False"
   ]
  },
  {
   "cell_type": "code",
   "execution_count": 163,
   "metadata": {},
   "outputs": [
    {
     "name": "stderr",
     "output_type": "stream",
     "text": [
      "[ATM]:[07/03/2018 10:08:45 AM]:DEBUG:creating a new account\n"
     ]
    }
   ],
   "source": [
    "f_name, l_name, cnic, s_o= \"Faizan\", \"Ahmad\", '3630263804095', \"Muhammad Siddique\" \n",
    "new = NewAccount(f_name, l_name, s_o, cnic)"
   ]
  },
  {
   "cell_type": "code",
   "execution_count": 164,
   "metadata": {},
   "outputs": [
    {
     "name": "stderr",
     "output_type": "stream",
     "text": [
      "[ATM]:[07/03/2018 10:08:47 AM]:DEBUG:checking CNIC : 3630263804095\n",
      "[ATM]:[07/03/2018 10:08:47 AM]:INFO:checking first name...\n",
      "[ATM]:[07/03/2018 10:08:47 AM]:INFO:checking last name...\n",
      "[ATM]:[07/03/2018 10:08:47 AM]:INFO:return full name with no middle name\n"
     ]
    },
    {
     "data": {
      "text/plain": [
       "('36302-6380409-5', 'Faizan Ahmad')"
      ]
     },
     "execution_count": 164,
     "metadata": {},
     "output_type": "execute_result"
    }
   ],
   "source": [
    "new.cnic_check(), new.full_name()"
   ]
  },
  {
   "cell_type": "code",
   "execution_count": 165,
   "metadata": {
    "collapsed": true
   },
   "outputs": [],
   "source": [
    "from tkinter import *"
   ]
  },
  {
   "cell_type": "code",
   "execution_count": 166,
   "metadata": {},
   "outputs": [],
   "source": [
    "def next_window():\n",
    "    global window\n",
    "    \n",
    "    # window.geometry(\"480x300\")\n",
    "    #----heading------\n",
    "    Label(window, text=\"Create New Account\", font=\"none 18 bold\", fg=\"dark green\").grid(row=0, rowspan=2, column=1, columnspan=3, sticky=W+E+N+S)\n",
    "    Label(window, text=\"\").grid(row=2, column=0, sticky=W)\n",
    "    Label(window, text=\"\").grid(row=3, column=0, sticky=W)\n",
    "\n",
    "    #-----label for username------\n",
    "    Label(window, text=\"Username : \", font=\"none 12 bold\").grid(row=4, column=0, sticky=W)\n",
    "\n",
    "    #-----entry for username-----\n",
    "    username = Entry(window, bg=\"white\", width=20, font=\"none 12\").grid(row=4, column=2, sticky=W)\n",
    "\n",
    "    #------label for PIN-------\n",
    "    Label(window, text=\"4-Digit PIN : \", font=\"none 12 bold\").grid(row=5, column=0, sticky=W)\n",
    "    Label(window, text=\"Verify PIN : \", font=\"none 12 bold\").grid(row=6, column=0, sticky=W)\n",
    "\n",
    "    \n",
    "    #------entry for PIN------\n",
    "    bullet = \"\\u2022\"\n",
    "    pin = Entry(window, bg=\"white\", width=16, font=\"12\", show=bullet).grid(row=5, column=2, sticky=W) \n",
    "    v_pin = Entry(window, bg=\"white\", width=16, font=\"12\", show=bullet).grid(row=6, column=2, sticky=W) \n",
    "        \n",
    "    #----button for exit-----\n",
    "    exit_bt = Button(window, text=\"FINISH\", bg=\"red\", fg=\"gold\", font=\"none 12\", command=window.destroy)\n",
    "    exit_bt.grid(row=10, column=4, sticky=W)\n",
    "\n",
    "def main_window():\n",
    "    global window\n",
    "    \n",
    "    #----heading------\n",
    "    Label(window, text=\"Create New Account\", font=\"none 18 bold\", fg=\"dark green\").grid(row=0, rowspan=2, column=1, columnspan=3, sticky=E)\n",
    "    Label(window, text=\"\").grid(row=2, column=0, sticky=W)\n",
    "    Label(window, text=\"\").grid(row=3, column=0, sticky=W)\n",
    "\n",
    "    #----label for name------ \n",
    "    Label(window, text=\"First Name : \", font=\"none 12 bold\").grid(row=4, column=0, sticky=W)\n",
    "    Label(window, text=\"Middle Name : \", font=\"none 12 bold\").grid(row=5, column=0, sticky=W)\n",
    "    Label(window, text=\"Last Name : \", font=\"none 12 bold\").grid(row=6, column=0, sticky=W)\n",
    "    Label(window, text=\"Father's Name : \", font=\"none 12 bold\").grid(row=7, column=0, sticky=W)\n",
    "\n",
    "    #-----entries for name-----\n",
    "    f_name = Entry(window, bg=\"white\", width=20, font=\"none 12\").grid(row=4, column=2, sticky=W)\n",
    "    m_name = Entry(window, bg=\"white\", width=20, font=\"none 12\").grid(row=5, column=2, sticky=W)\n",
    "    l_name = Entry(window, bg=\"white\", width=20, font=\"none 12\").grid(row=6, column=2, sticky=W)\n",
    "    ft_name = Entry(window, bg=\"white\", width=20, font=\"none 12\").grid(row=7, column=2, sticky=W)\n",
    "\n",
    "    #---label for cnic-----\n",
    "    l_cnic = Label(window, text=\"13-Digit CNIC : \", font=\"none 12 bold\").grid(row=8, column=0, sticky=W)\n",
    "    #---entry for cnic----\n",
    "    cnic = Entry(window, bg=\"white\", width=16, font=\"12\").grid(row=8, column=2, sticky=W) \n",
    "\n",
    "    #-----label for account type------\n",
    "    Label(window, text=\"Account Type\", font=\"none 12 bold\").grid(row=7, column=0, sticky=W)\n",
    "    Listbox(window, option=copyright)\n",
    "\n",
    "    #----button for next-----\n",
    "    next_bt = Button(window, text=\"NEXT\", bg=\"dark green\", fg=\"gold\", font=\"none 12\", command=next_window)\n",
    "    next_bt.grid(row=10, column=3, sticky=E)\n",
    "\n",
    "    #----button for exit-----\n",
    "    exit_bt = Button(window, text=\"EXIT\", bg=\"red\", fg=\"gold\", font=\"none 12\", command=window.destroy)\n",
    "    exit_bt.grid(row=10, column=4, sticky=W)\n",
    "\n",
    "window = Tk()\n",
    "window.title(\"New Account\")\n",
    "# window.geometry(\"480x300\")\n",
    "main_window()\n",
    "window.mainloop()"
   ]
  },
  {
   "cell_type": "code",
   "execution_count": null,
   "metadata": {
    "collapsed": true
   },
   "outputs": [],
   "source": []
  }
 ],
 "metadata": {
  "kernelspec": {
   "display_name": "Python 3",
   "language": "python",
   "name": "python3"
  },
  "language_info": {
   "codemirror_mode": {
    "name": "ipython",
    "version": 3
   },
   "file_extension": ".py",
   "mimetype": "text/x-python",
   "name": "python",
   "nbconvert_exporter": "python",
   "pygments_lexer": "ipython3",
   "version": "3.6.2"
  }
 },
 "nbformat": 4,
 "nbformat_minor": 2
}
