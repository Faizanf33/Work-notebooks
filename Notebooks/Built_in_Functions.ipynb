{
 "cells": [
  {
   "cell_type": "code",
   "execution_count": 27,
   "metadata": {},
   "outputs": [
    {
     "data": {
      "text/plain": [
       "True"
      ]
     },
     "execution_count": 27,
     "metadata": {},
     "output_type": "execute_result"
    }
   ],
   "source": [
    "4==x"
   ]
  },
  {
   "cell_type": "code",
   "execution_count": 44,
   "metadata": {},
   "outputs": [
    {
     "data": {
      "text/plain": [
       "'a'"
      ]
     },
     "execution_count": 44,
     "metadata": {},
     "output_type": "execute_result"
    }
   ],
   "source": [
    "chr(97)"
   ]
  },
  {
   "cell_type": "code",
   "execution_count": 49,
   "metadata": {},
   "outputs": [
    {
     "ename": "ValueError",
     "evalue": "chr() arg not in range(256)",
     "output_type": "error",
     "traceback": [
      "\u001b[1;31m---------------------------------------------------------------------------\u001b[0m",
      "\u001b[1;31mValueError\u001b[0m                                Traceback (most recent call last)",
      "\u001b[1;32m<ipython-input-49-c4ca46e9eb21>\u001b[0m in \u001b[0;36m<module>\u001b[1;34m()\u001b[0m\n\u001b[1;32m----> 1\u001b[1;33m \u001b[0mchr\u001b[0m\u001b[1;33m(\u001b[0m\u001b[1;36m8364\u001b[0m\u001b[1;33m)\u001b[0m\u001b[1;33m\u001b[0m\u001b[0m\n\u001b[0m",
      "\u001b[1;31mValueError\u001b[0m: chr() arg not in range(256)"
     ]
    }
   ],
   "source": [
    "chr(8364)"
   ]
  },
  {
   "cell_type": "code",
   "execution_count": 64,
   "metadata": {
    "collapsed": true
   },
   "outputs": [],
   "source": [
    "class Animals:\n",
    "    def dog():\n",
    "        legs=4"
   ]
  },
  {
   "cell_type": "code",
   "execution_count": 68,
   "metadata": {},
   "outputs": [
    {
     "data": {
      "text/plain": [
       "classobj"
      ]
     },
     "execution_count": 68,
     "metadata": {},
     "output_type": "execute_result"
    }
   ],
   "source": [
    "type(Animals)"
   ]
  },
  {
   "cell_type": "code",
   "execution_count": 70,
   "metadata": {},
   "outputs": [
    {
     "name": "stdout",
     "output_type": "stream",
     "text": [
      "Help on module code:\n",
      "\n",
      "NAME\n",
      "    code - Utilities needed to emulate Python's interactive interpreter.\n",
      "\n",
      "FILE\n",
      "    c:\\users\\faiza\\anaconda2\\lib\\code.py\n",
      "\n",
      "CLASSES\n",
      "    InteractiveInterpreter\n",
      "        InteractiveConsole\n",
      "    \n",
      "    class InteractiveConsole(InteractiveInterpreter)\n",
      "     |  Closely emulate the behavior of the interactive Python interpreter.\n",
      "     |  \n",
      "     |  This class builds on InteractiveInterpreter and adds prompting\n",
      "     |  using the familiar sys.ps1 and sys.ps2, and input buffering.\n",
      "     |  \n",
      "     |  Methods defined here:\n",
      "     |  \n",
      "     |  __init__(self, locals=None, filename='<console>')\n",
      "     |      Constructor.\n",
      "     |      \n",
      "     |      The optional locals argument will be passed to the\n",
      "     |      InteractiveInterpreter base class.\n",
      "     |      \n",
      "     |      The optional filename argument should specify the (file)name\n",
      "     |      of the input stream; it will show up in tracebacks.\n",
      "     |  \n",
      "     |  interact(self, banner=None)\n",
      "     |      Closely emulate the interactive Python console.\n",
      "     |      \n",
      "     |      The optional banner argument specify the banner to print\n",
      "     |      before the first interaction; by default it prints a banner\n",
      "     |      similar to the one printed by the real Python interpreter,\n",
      "     |      followed by the current class name in parentheses (so as not\n",
      "     |      to confuse this with the real interpreter -- since it's so\n",
      "     |      close!).\n",
      "     |  \n",
      "     |  push(self, line)\n",
      "     |      Push a line to the interpreter.\n",
      "     |      \n",
      "     |      The line should not have a trailing newline; it may have\n",
      "     |      internal newlines.  The line is appended to a buffer and the\n",
      "     |      interpreter's runsource() method is called with the\n",
      "     |      concatenated contents of the buffer as source.  If this\n",
      "     |      indicates that the command was executed or invalid, the buffer\n",
      "     |      is reset; otherwise, the command is incomplete, and the buffer\n",
      "     |      is left as it was after the line was appended.  The return\n",
      "     |      value is 1 if more input is required, 0 if the line was dealt\n",
      "     |      with in some way (this is the same as runsource()).\n",
      "     |  \n",
      "     |  raw_input(self, prompt='')\n",
      "     |      Write a prompt and read a line.\n",
      "     |      \n",
      "     |      The returned line does not include the trailing newline.\n",
      "     |      When the user enters the EOF key sequence, EOFError is raised.\n",
      "     |      \n",
      "     |      The base implementation uses the built-in function\n",
      "     |      raw_input(); a subclass may replace this with a different\n",
      "     |      implementation.\n",
      "     |  \n",
      "     |  resetbuffer(self)\n",
      "     |      Reset the input buffer.\n",
      "     |  \n",
      "     |  ----------------------------------------------------------------------\n",
      "     |  Methods inherited from InteractiveInterpreter:\n",
      "     |  \n",
      "     |  runcode(self, code)\n",
      "     |      Execute a code object.\n",
      "     |      \n",
      "     |      When an exception occurs, self.showtraceback() is called to\n",
      "     |      display a traceback.  All exceptions are caught except\n",
      "     |      SystemExit, which is reraised.\n",
      "     |      \n",
      "     |      A note about KeyboardInterrupt: this exception may occur\n",
      "     |      elsewhere in this code, and may not always be caught.  The\n",
      "     |      caller should be prepared to deal with it.\n",
      "     |  \n",
      "     |  runsource(self, source, filename='<input>', symbol='single')\n",
      "     |      Compile and run some source in the interpreter.\n",
      "     |      \n",
      "     |      Arguments are as for compile_command().\n",
      "     |      \n",
      "     |      One several things can happen:\n",
      "     |      \n",
      "     |      1) The input is incorrect; compile_command() raised an\n",
      "     |      exception (SyntaxError or OverflowError).  A syntax traceback\n",
      "     |      will be printed by calling the showsyntaxerror() method.\n",
      "     |      \n",
      "     |      2) The input is incomplete, and more input is required;\n",
      "     |      compile_command() returned None.  Nothing happens.\n",
      "     |      \n",
      "     |      3) The input is complete; compile_command() returned a code\n",
      "     |      object.  The code is executed by calling self.runcode() (which\n",
      "     |      also handles run-time exceptions, except for SystemExit).\n",
      "     |      \n",
      "     |      The return value is True in case 2, False in the other cases (unless\n",
      "     |      an exception is raised).  The return value can be used to\n",
      "     |      decide whether to use sys.ps1 or sys.ps2 to prompt the next\n",
      "     |      line.\n",
      "     |  \n",
      "     |  showsyntaxerror(self, filename=None)\n",
      "     |      Display the syntax error that just occurred.\n",
      "     |      \n",
      "     |      This doesn't display a stack trace because there isn't one.\n",
      "     |      \n",
      "     |      If a filename is given, it is stuffed in the exception instead\n",
      "     |      of what was there before (because Python's parser always uses\n",
      "     |      \"<string>\" when reading from a string).\n",
      "     |      \n",
      "     |      The output is written by self.write(), below.\n",
      "     |  \n",
      "     |  showtraceback(self)\n",
      "     |      Display the exception that just occurred.\n",
      "     |      \n",
      "     |      We remove the first stack item because it is our own code.\n",
      "     |      \n",
      "     |      The output is written by self.write(), below.\n",
      "     |  \n",
      "     |  write(self, data)\n",
      "     |      Write a string.\n",
      "     |      \n",
      "     |      The base implementation writes to sys.stderr; a subclass may\n",
      "     |      replace this with a different implementation.\n",
      "    \n",
      "    class InteractiveInterpreter\n",
      "     |  Base class for InteractiveConsole.\n",
      "     |  \n",
      "     |  This class deals with parsing and interpreter state (the user's\n",
      "     |  namespace); it doesn't deal with input buffering or prompting or\n",
      "     |  input file naming (the filename is always passed in explicitly).\n",
      "     |  \n",
      "     |  Methods defined here:\n",
      "     |  \n",
      "     |  __init__(self, locals=None)\n",
      "     |      Constructor.\n",
      "     |      \n",
      "     |      The optional 'locals' argument specifies the dictionary in\n",
      "     |      which code will be executed; it defaults to a newly created\n",
      "     |      dictionary with key \"__name__\" set to \"__console__\" and key\n",
      "     |      \"__doc__\" set to None.\n",
      "     |  \n",
      "     |  runcode(self, code)\n",
      "     |      Execute a code object.\n",
      "     |      \n",
      "     |      When an exception occurs, self.showtraceback() is called to\n",
      "     |      display a traceback.  All exceptions are caught except\n",
      "     |      SystemExit, which is reraised.\n",
      "     |      \n",
      "     |      A note about KeyboardInterrupt: this exception may occur\n",
      "     |      elsewhere in this code, and may not always be caught.  The\n",
      "     |      caller should be prepared to deal with it.\n",
      "     |  \n",
      "     |  runsource(self, source, filename='<input>', symbol='single')\n",
      "     |      Compile and run some source in the interpreter.\n",
      "     |      \n",
      "     |      Arguments are as for compile_command().\n",
      "     |      \n",
      "     |      One several things can happen:\n",
      "     |      \n",
      "     |      1) The input is incorrect; compile_command() raised an\n",
      "     |      exception (SyntaxError or OverflowError).  A syntax traceback\n",
      "     |      will be printed by calling the showsyntaxerror() method.\n",
      "     |      \n",
      "     |      2) The input is incomplete, and more input is required;\n",
      "     |      compile_command() returned None.  Nothing happens.\n",
      "     |      \n",
      "     |      3) The input is complete; compile_command() returned a code\n",
      "     |      object.  The code is executed by calling self.runcode() (which\n",
      "     |      also handles run-time exceptions, except for SystemExit).\n",
      "     |      \n",
      "     |      The return value is True in case 2, False in the other cases (unless\n",
      "     |      an exception is raised).  The return value can be used to\n",
      "     |      decide whether to use sys.ps1 or sys.ps2 to prompt the next\n",
      "     |      line.\n",
      "     |  \n",
      "     |  showsyntaxerror(self, filename=None)\n",
      "     |      Display the syntax error that just occurred.\n",
      "     |      \n",
      "     |      This doesn't display a stack trace because there isn't one.\n",
      "     |      \n",
      "     |      If a filename is given, it is stuffed in the exception instead\n",
      "     |      of what was there before (because Python's parser always uses\n",
      "     |      \"<string>\" when reading from a string).\n",
      "     |      \n",
      "     |      The output is written by self.write(), below.\n",
      "     |  \n",
      "     |  showtraceback(self)\n",
      "     |      Display the exception that just occurred.\n",
      "     |      \n",
      "     |      We remove the first stack item because it is our own code.\n",
      "     |      \n",
      "     |      The output is written by self.write(), below.\n",
      "     |  \n",
      "     |  write(self, data)\n",
      "     |      Write a string.\n",
      "     |      \n",
      "     |      The base implementation writes to sys.stderr; a subclass may\n",
      "     |      replace this with a different implementation.\n",
      "\n",
      "FUNCTIONS\n",
      "    compile_command(source, filename='<input>', symbol='single')\n",
      "        Compile a command and determine whether it is incomplete.\n",
      "        \n",
      "        Arguments:\n",
      "        \n",
      "        source -- the source string; may contain \\n characters\n",
      "        filename -- optional filename from which source was read; default\n",
      "                    \"<input>\"\n",
      "        symbol -- optional grammar start symbol; \"single\" (default) or \"eval\"\n",
      "        \n",
      "        Return value / exceptions raised:\n",
      "        \n",
      "        - Return a code object if the command is complete and valid\n",
      "        - Return None if the command is incomplete\n",
      "        - Raise SyntaxError, ValueError or OverflowError if the command is a\n",
      "          syntax error (OverflowError and ValueError can be produced by\n",
      "          malformed literals).\n",
      "    \n",
      "    interact(banner=None, readfunc=None, local=None)\n",
      "        Closely emulate the interactive Python interpreter.\n",
      "        \n",
      "        This is a backwards compatible interface to the InteractiveConsole\n",
      "        class.  When readfunc is not specified, it attempts to import the\n",
      "        readline module to enable GNU readline if it is available.\n",
      "        \n",
      "        Arguments (all optional, all default to None):\n",
      "        \n",
      "        banner -- passed to InteractiveConsole.interact()\n",
      "        readfunc -- if not None, replaces InteractiveConsole.raw_input()\n",
      "        local -- passed to InteractiveInterpreter.__init__()\n",
      "\n",
      "DATA\n",
      "    __all__ = ['InteractiveInterpreter', 'InteractiveConsole', 'interact',...\n",
      "\n",
      "\n"
     ]
    }
   ],
   "source": [
    "help('code')"
   ]
  },
  {
   "cell_type": "code",
   "execution_count": 78,
   "metadata": {},
   "outputs": [
    {
     "name": "stdout",
     "output_type": "stream",
     "text": [
      "no Python documentation found for 'resetbuffer'\n",
      "\n"
     ]
    }
   ],
   "source": [
    "help('resetbuffer')"
   ]
  },
  {
   "cell_type": "code",
   "execution_count": 17,
   "metadata": {},
   "outputs": [
    {
     "name": "stdout",
     "output_type": "stream",
     "text": [
      "Help on class complex in module __builtin__:\n",
      "\n",
      "class complex(object)\n",
      " |  complex(real[, imag]) -> complex number\n",
      " |  \n",
      " |  Create a complex number from a real part and an optional imaginary part.\n",
      " |  This is equivalent to (real + imag*1j) where imag defaults to 0.\n",
      " |  \n",
      " |  Methods defined here:\n",
      " |  \n",
      " |  __abs__(...)\n",
      " |      x.__abs__() <==> abs(x)\n",
      " |  \n",
      " |  __add__(...)\n",
      " |      x.__add__(y) <==> x+y\n",
      " |  \n",
      " |  __coerce__(...)\n",
      " |      x.__coerce__(y) <==> coerce(x, y)\n",
      " |  \n",
      " |  __div__(...)\n",
      " |      x.__div__(y) <==> x/y\n",
      " |  \n",
      " |  __divmod__(...)\n",
      " |      x.__divmod__(y) <==> divmod(x, y)\n",
      " |  \n",
      " |  __eq__(...)\n",
      " |      x.__eq__(y) <==> x==y\n",
      " |  \n",
      " |  __float__(...)\n",
      " |      x.__float__() <==> float(x)\n",
      " |  \n",
      " |  __floordiv__(...)\n",
      " |      x.__floordiv__(y) <==> x//y\n",
      " |  \n",
      " |  __format__(...)\n",
      " |      complex.__format__() -> str\n",
      " |      \n",
      " |      Convert to a string according to format_spec.\n",
      " |  \n",
      " |  __ge__(...)\n",
      " |      x.__ge__(y) <==> x>=y\n",
      " |  \n",
      " |  __getattribute__(...)\n",
      " |      x.__getattribute__('name') <==> x.name\n",
      " |  \n",
      " |  __getnewargs__(...)\n",
      " |  \n",
      " |  __gt__(...)\n",
      " |      x.__gt__(y) <==> x>y\n",
      " |  \n",
      " |  __hash__(...)\n",
      " |      x.__hash__() <==> hash(x)\n",
      " |  \n",
      " |  __int__(...)\n",
      " |      x.__int__() <==> int(x)\n",
      " |  \n",
      " |  __le__(...)\n",
      " |      x.__le__(y) <==> x<=y\n",
      " |  \n",
      " |  __long__(...)\n",
      " |      x.__long__() <==> long(x)\n",
      " |  \n",
      " |  __lt__(...)\n",
      " |      x.__lt__(y) <==> x<y\n",
      " |  \n",
      " |  __mod__(...)\n",
      " |      x.__mod__(y) <==> x%y\n",
      " |  \n",
      " |  __mul__(...)\n",
      " |      x.__mul__(y) <==> x*y\n",
      " |  \n",
      " |  __ne__(...)\n",
      " |      x.__ne__(y) <==> x!=y\n",
      " |  \n",
      " |  __neg__(...)\n",
      " |      x.__neg__() <==> -x\n",
      " |  \n",
      " |  __nonzero__(...)\n",
      " |      x.__nonzero__() <==> x != 0\n",
      " |  \n",
      " |  __pos__(...)\n",
      " |      x.__pos__() <==> +x\n",
      " |  \n",
      " |  __pow__(...)\n",
      " |      x.__pow__(y[, z]) <==> pow(x, y[, z])\n",
      " |  \n",
      " |  __radd__(...)\n",
      " |      x.__radd__(y) <==> y+x\n",
      " |  \n",
      " |  __rdiv__(...)\n",
      " |      x.__rdiv__(y) <==> y/x\n",
      " |  \n",
      " |  __rdivmod__(...)\n",
      " |      x.__rdivmod__(y) <==> divmod(y, x)\n",
      " |  \n",
      " |  __repr__(...)\n",
      " |      x.__repr__() <==> repr(x)\n",
      " |  \n",
      " |  __rfloordiv__(...)\n",
      " |      x.__rfloordiv__(y) <==> y//x\n",
      " |  \n",
      " |  __rmod__(...)\n",
      " |      x.__rmod__(y) <==> y%x\n",
      " |  \n",
      " |  __rmul__(...)\n",
      " |      x.__rmul__(y) <==> y*x\n",
      " |  \n",
      " |  __rpow__(...)\n",
      " |      y.__rpow__(x[, z]) <==> pow(x, y[, z])\n",
      " |  \n",
      " |  __rsub__(...)\n",
      " |      x.__rsub__(y) <==> y-x\n",
      " |  \n",
      " |  __rtruediv__(...)\n",
      " |      x.__rtruediv__(y) <==> y/x\n",
      " |  \n",
      " |  __str__(...)\n",
      " |      x.__str__() <==> str(x)\n",
      " |  \n",
      " |  __sub__(...)\n",
      " |      x.__sub__(y) <==> x-y\n",
      " |  \n",
      " |  __truediv__(...)\n",
      " |      x.__truediv__(y) <==> x/y\n",
      " |  \n",
      " |  conjugate(...)\n",
      " |      complex.conjugate() -> complex\n",
      " |      \n",
      " |      Return the complex conjugate of its argument. (3-4j).conjugate() == 3+4j.\n",
      " |  \n",
      " |  ----------------------------------------------------------------------\n",
      " |  Data descriptors defined here:\n",
      " |  \n",
      " |  imag\n",
      " |      the imaginary part of a complex number\n",
      " |  \n",
      " |  real\n",
      " |      the real part of a complex number\n",
      " |  \n",
      " |  ----------------------------------------------------------------------\n",
      " |  Data and other attributes defined here:\n",
      " |  \n",
      " |  __new__ = <built-in method __new__ of type object>\n",
      " |      T.__new__(S, ...) -> a new object with type S, a subtype of T\n",
      "\n"
     ]
    }
   ],
   "source": [
    "help(complex)"
   ]
  },
  {
   "cell_type": "code",
   "execution_count": 123,
   "metadata": {
    "collapsed": true
   },
   "outputs": [],
   "source": [
    "x = 'foobar'"
   ]
  },
  {
   "cell_type": "code",
   "execution_count": 124,
   "metadata": {
    "collapsed": true
   },
   "outputs": [],
   "source": [
    "y = 'foo'"
   ]
  },
  {
   "cell_type": "code",
   "execution_count": 125,
   "metadata": {
    "scrolled": true
   },
   "outputs": [
    {
     "ename": "AttributeError",
     "evalue": "'str' object has no attribute 'foo'",
     "output_type": "error",
     "traceback": [
      "\u001b[1;31m---------------------------------------------------------------------------\u001b[0m",
      "\u001b[1;31mAttributeError\u001b[0m                            Traceback (most recent call last)",
      "\u001b[1;32m<ipython-input-125-be7aef8d3c86>\u001b[0m in \u001b[0;36m<module>\u001b[1;34m()\u001b[0m\n\u001b[1;32m----> 1\u001b[1;33m \u001b[0msetattr\u001b[0m\u001b[1;33m(\u001b[0m\u001b[0mx\u001b[0m \u001b[1;33m,\u001b[0m\u001b[0my\u001b[0m\u001b[1;33m,\u001b[0m \u001b[1;34m''\u001b[0m\u001b[1;33m)\u001b[0m\u001b[1;33m\u001b[0m\u001b[0m\n\u001b[0m",
      "\u001b[1;31mAttributeError\u001b[0m: 'str' object has no attribute 'foo'"
     ]
    }
   ],
   "source": [
    "setattr(x ,y, '')"
   ]
  },
  {
   "cell_type": "code",
   "execution_count": 122,
   "metadata": {},
   "outputs": [
    {
     "data": {
      "text/plain": [
       "'foobar'"
      ]
     },
     "execution_count": 122,
     "metadata": {},
     "output_type": "execute_result"
    }
   ],
   "source": [
    "'foobar'    "
   ]
  },
  {
   "cell_type": "code",
   "execution_count": 126,
   "metadata": {
    "collapsed": true
   },
   "outputs": [],
   "source": [
    "import struct"
   ]
  },
  {
   "cell_type": "code",
   "execution_count": 130,
   "metadata": {},
   "outputs": [
    {
     "data": {
      "text/plain": [
       "['__call__',\n",
       " '__class__',\n",
       " '__delattr__',\n",
       " '__dict__',\n",
       " '__doc__',\n",
       " '__format__',\n",
       " '__getattribute__',\n",
       " '__hash__',\n",
       " '__init__',\n",
       " '__module__',\n",
       " '__new__',\n",
       " '__reduce__',\n",
       " '__reduce_ex__',\n",
       " '__repr__',\n",
       " '__setattr__',\n",
       " '__sizeof__',\n",
       " '__str__',\n",
       " '__subclasshook__',\n",
       " '__weakref__']"
      ]
     },
     "execution_count": 130,
     "metadata": {},
     "output_type": "execute_result"
    }
   ],
   "source": [
    "dir(help)"
   ]
  },
  {
   "cell_type": "code",
   "execution_count": 131,
   "metadata": {
    "collapsed": true
   },
   "outputs": [],
   "source": [
    "class Shape:\n",
    "    def __dir__(self):\n",
    "        return ['area', 'perimeter', 'location']\n",
    "s = Shape()"
   ]
  },
  {
   "cell_type": "code",
   "execution_count": 132,
   "metadata": {},
   "outputs": [
    {
     "data": {
      "text/plain": [
       "['area', 'location', 'perimeter']"
      ]
     },
     "execution_count": 132,
     "metadata": {},
     "output_type": "execute_result"
    }
   ],
   "source": [
    "dir(s)"
   ]
  },
  {
   "cell_type": "code",
   "execution_count": 147,
   "metadata": {
    "collapsed": true
   },
   "outputs": [],
   "source": [
    "def enumerate(sequence, start=0):\n",
    "    n = start\n",
    "    for elem in sequence:\n",
    "        yield n, elem\n",
    "        n += 1"
   ]
  },
  {
   "cell_type": "code",
   "execution_count": 148,
   "metadata": {
    "collapsed": true
   },
   "outputs": [],
   "source": [
    "seasons = ('Spring', 'Summer', 'Fall', 'Winter')"
   ]
  },
  {
   "cell_type": "code",
   "execution_count": 149,
   "metadata": {},
   "outputs": [
    {
     "data": {
      "text/plain": [
       "[(0, 'Spring'), (1, 'Summer'), (2, 'Fall'), (3, 'Winter')]"
      ]
     },
     "execution_count": 149,
     "metadata": {},
     "output_type": "execute_result"
    }
   ],
   "source": [
    "list(enumerate(seasons))"
   ]
  },
  {
   "cell_type": "code",
   "execution_count": 150,
   "metadata": {},
   "outputs": [
    {
     "data": {
      "text/plain": [
       "((1, 'Spring'), (2, 'Summer'), (3, 'Fall'), (4, 'Winter'))"
      ]
     },
     "execution_count": 150,
     "metadata": {},
     "output_type": "execute_result"
    }
   ],
   "source": [
    "tuple(enumerate(seasons , start = 1))"
   ]
  },
  {
   "cell_type": "code",
   "execution_count": 151,
   "metadata": {},
   "outputs": [
    {
     "data": {
      "text/plain": [
       "{1: 'Spring', 2: 'Summer', 3: 'Fall', 4: 'Winter'}"
      ]
     },
     "execution_count": 151,
     "metadata": {},
     "output_type": "execute_result"
    }
   ],
   "source": [
    "dict(enumerate(seasons , start = 1))"
   ]
  },
  {
   "cell_type": "code",
   "execution_count": 156,
   "metadata": {
    "collapsed": true
   },
   "outputs": [],
   "source": [
    "exec('2 + 1')"
   ]
  },
  {
   "cell_type": "code",
   "execution_count": null,
   "metadata": {
    "collapsed": true
   },
   "outputs": [],
   "source": []
  }
 ],
 "metadata": {
  "kernelspec": {
   "display_name": "Python 2",
   "language": "python",
   "name": "python2"
  },
  "language_info": {
   "codemirror_mode": {
    "name": "ipython",
    "version": 2
   },
   "file_extension": ".py",
   "mimetype": "text/x-python",
   "name": "python",
   "nbconvert_exporter": "python",
   "pygments_lexer": "ipython2",
   "version": "2.7.13"
  }
 },
 "nbformat": 4,
 "nbformat_minor": 2
}
