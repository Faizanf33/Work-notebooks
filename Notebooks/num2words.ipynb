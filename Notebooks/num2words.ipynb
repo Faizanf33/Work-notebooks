{
 "cells": [
  {
   "cell_type": "code",
   "execution_count": 7,
   "metadata": {
    "collapsed": true
   },
   "outputs": [],
   "source": [
    "from num2words import num2words"
   ]
  },
  {
   "cell_type": "code",
   "execution_count": 27,
   "metadata": {},
   "outputs": [
    {
     "data": {
      "text/plain": [
       "'one thousand, two hundred and thirty'"
      ]
     },
     "execution_count": 27,
     "metadata": {},
     "output_type": "execute_result"
    }
   ],
   "source": [
    "str(num2words(1230))"
   ]
  },
  {
   "cell_type": "code",
   "execution_count": 11,
   "metadata": {},
   "outputs": [
    {
     "name": "stdout",
     "output_type": "stream",
     "text": [
      "Enter a number: 152\n",
      "one hundred and fifty-two\n"
     ]
    }
   ],
   "source": [
    "def num_to_words():\n",
    "    n = input(\"Enter a number: \")\n",
    "    d = {}\n",
    "    for i in range(0 , n+1):\n",
    "        d[i] = str(num2words(i))\n",
    "    print num2words(i)\n",
    "        \n",
    "    #return d\n",
    "\n",
    "num_to_words()"
   ]
  },
  {
   "cell_type": "code",
   "execution_count": 2,
   "metadata": {},
   "outputs": [
    {
     "name": "stdout",
     "output_type": "stream",
     "text": [
      "Enter a number: 15\n",
      "{0: 'one', 1: 'one', 2: 'one', 3: 'one', 4: 'one', 5: 'one', 6: 'one', 7: 'one', 8: 'one', 9: 'one', 10: 'one', 11: 'one', 12: 'one', 13: 'one', 14: 'one', 15: 'one'}\n"
     ]
    }
   ],
   "source": [
    "def numTowords():\n",
    "    d = {}\n",
    "    n = int(input(\"Enter a number: \"))\n",
    "    for i in range(0,n+1):\n",
    "        d[i] = \"one\"\n",
    "    print d\n",
    "numTowords()"
   ]
  },
  {
   "cell_type": "code",
   "execution_count": 7,
   "metadata": {},
   "outputs": [],
   "source": [
    "Student_Info = {\n",
    "    \"Faizan\":176020,\n",
    "    \"Ali\":176103,\n",
    "    \"Jawad\":176023\n",
    "}"
   ]
  },
  {
   "cell_type": "code",
   "execution_count": 8,
   "metadata": {},
   "outputs": [
    {
     "name": "stdout",
     "output_type": "stream",
     "text": [
      "{'Jawad': 176023, 'Faizan': 176020, 'Ali': 176103}\n"
     ]
    }
   ],
   "source": [
    "print Student_Info"
   ]
  },
  {
   "cell_type": "code",
   "execution_count": 9,
   "metadata": {
    "collapsed": true
   },
   "outputs": [],
   "source": [
    "Student_Info['Ahmed'] = 176019"
   ]
  },
  {
   "cell_type": "code",
   "execution_count": 10,
   "metadata": {},
   "outputs": [
    {
     "name": "stdout",
     "output_type": "stream",
     "text": [
      "{'Ahmed': 176019, 'Jawad': 176023, 'Faizan': 176020, 'Ali': 176103}\n"
     ]
    }
   ],
   "source": [
    "print Student_Info"
   ]
  },
  {
   "cell_type": "code",
   "execution_count": 12,
   "metadata": {
    "collapsed": true
   },
   "outputs": [],
   "source": [
    "Student_Info['Ali'] = 176002"
   ]
  },
  {
   "cell_type": "code",
   "execution_count": 13,
   "metadata": {},
   "outputs": [
    {
     "name": "stdout",
     "output_type": "stream",
     "text": [
      "{'Ahmed': 176019, 'Jawad': 176023, 'Faizan': 176020, 'Ali': 176002}\n"
     ]
    }
   ],
   "source": [
    "print Student_Info"
   ]
  },
  {
   "cell_type": "code",
   "execution_count": 14,
   "metadata": {
    "collapsed": true
   },
   "outputs": [],
   "source": [
    "Student_Info ['Faizan'] = [176020,'Section-A','Batch-18']"
   ]
  },
  {
   "cell_type": "code",
   "execution_count": 15,
   "metadata": {},
   "outputs": [
    {
     "name": "stdout",
     "output_type": "stream",
     "text": [
      "{'Ahmed': 176019, 'Jawad': 176023, 'Faizan': [176020, 'Section-A', 'Batch-18'], 'Ali': 176002}\n"
     ]
    }
   ],
   "source": [
    "print Student_Info"
   ]
  },
  {
   "cell_type": "code",
   "execution_count": 17,
   "metadata": {},
   "outputs": [
    {
     "ename": "TypeError",
     "evalue": "unhashable type: 'list'",
     "output_type": "error",
     "traceback": [
      "\u001b[0;31m---------------------------------------------------------------------------\u001b[0m",
      "\u001b[0;31mTypeError\u001b[0m                                 Traceback (most recent call last)",
      "\u001b[0;32m<ipython-input-17-e5d7c5436eab>\u001b[0m in \u001b[0;36m<module>\u001b[0;34m()\u001b[0m\n\u001b[1;32m      1\u001b[0m \u001b[0mi\u001b[0m \u001b[0;34m=\u001b[0m \u001b[0;34m[\u001b[0m\u001b[0;34m'First Name'\u001b[0m\u001b[0;34m,\u001b[0m\u001b[0;34m'Info'\u001b[0m\u001b[0;34m]\u001b[0m\u001b[0;34m\u001b[0m\u001b[0m\n\u001b[0;32m----> 2\u001b[0;31m \u001b[0mStudent_Info\u001b[0m\u001b[0;34m[\u001b[0m\u001b[0mi\u001b[0m\u001b[0;34m]\u001b[0m \u001b[0;34m=\u001b[0m \u001b[0;34m'Roll No.'\u001b[0m\u001b[0;34m\u001b[0m\u001b[0m\n\u001b[0m",
      "\u001b[0;31mTypeError\u001b[0m: unhashable type: 'list'"
     ]
    }
   ],
   "source": [
    "i = ['First Name','Info']\n",
    "Student_Info[i] = 'Roll No.'"
   ]
  },
  {
   "cell_type": "code",
   "execution_count": 19,
   "metadata": {},
   "outputs": [
    {
     "data": {
      "text/plain": [
       "163512108404620371"
      ]
     },
     "execution_count": 19,
     "metadata": {},
     "output_type": "execute_result"
    }
   ],
   "source": [
    "hash('123')"
   ]
  },
  {
   "cell_type": "code",
   "execution_count": 21,
   "metadata": {},
   "outputs": [
    {
     "data": {
      "text/plain": [
       "163512108404620370"
      ]
     },
     "execution_count": 21,
     "metadata": {},
     "output_type": "execute_result"
    }
   ],
   "source": [
    "hash('122')"
   ]
  },
  {
   "cell_type": "code",
   "execution_count": 24,
   "metadata": {},
   "outputs": [],
   "source": [
    "del Student_Info[\"Faizan\"]"
   ]
  },
  {
   "cell_type": "code",
   "execution_count": 25,
   "metadata": {},
   "outputs": [
    {
     "name": "stdout",
     "output_type": "stream",
     "text": [
      "{'Ahmed': 176019, 'Jawad': 176023, 'Ali': 176002}\n"
     ]
    }
   ],
   "source": [
    "print Student_Info"
   ]
  },
  {
   "cell_type": "code",
   "execution_count": 27,
   "metadata": {},
   "outputs": [],
   "source": [
    "Student_Info.clear()"
   ]
  },
  {
   "cell_type": "code",
   "execution_count": 28,
   "metadata": {},
   "outputs": [
    {
     "data": {
      "text/plain": [
       "{}"
      ]
     },
     "execution_count": 28,
     "metadata": {},
     "output_type": "execute_result"
    }
   ],
   "source": [
    "Student_Info"
   ]
  },
  {
   "cell_type": "code",
   "execution_count": 31,
   "metadata": {},
   "outputs": [
    {
     "ename": "NameError",
     "evalue": "name 'Student_Info' is not defined",
     "output_type": "error",
     "traceback": [
      "\u001b[0;31m---------------------------------------------------------------------------\u001b[0m",
      "\u001b[0;31mNameError\u001b[0m                                 Traceback (most recent call last)",
      "\u001b[0;32m<ipython-input-31-030f58aa8b16>\u001b[0m in \u001b[0;36m<module>\u001b[0;34m()\u001b[0m\n\u001b[0;32m----> 1\u001b[0;31m \u001b[0;32mdel\u001b[0m \u001b[0mStudent_Info\u001b[0m\u001b[0;34m\u001b[0m\u001b[0m\n\u001b[0m",
      "\u001b[0;31mNameError\u001b[0m: name 'Student_Info' is not defined"
     ]
    }
   ],
   "source": [
    "del Student_Info"
   ]
  },
  {
   "cell_type": "code",
   "execution_count": 37,
   "metadata": {
    "collapsed": true
   },
   "outputs": [],
   "source": [
    "list1 = [\"Calculus II\",\"English\",\"Pak Stds\",\"ITC\"]\n",
    "list2 = [21,15,24,16]"
   ]
  },
  {
   "cell_type": "code",
   "execution_count": 39,
   "metadata": {},
   "outputs": [
    {
     "data": {
      "text/plain": [
       "{'Calculus II': 21, 'English': 15, 'ITC': 16, 'Pak Stds': 24}"
      ]
     },
     "execution_count": 39,
     "metadata": {},
     "output_type": "execute_result"
    }
   ],
   "source": [
    "dict(set(zip(list1,list2)))"
   ]
  },
  {
   "cell_type": "code",
   "execution_count": 98,
   "metadata": {},
   "outputs": [],
   "source": [
    "def numtotext(n):\n",
    "    du = {\n",
    "        0:'',\n",
    "        1:'one',\n",
    "        2:'two',\n",
    "        3:'three',\n",
    "        4:'four',\n",
    "        5:'five',\n",
    "        6:'six',\n",
    "        7:'seven',\n",
    "        8:'eight',\n",
    "        9:'nine'\n",
    "    }\n",
    "    dt = {\n",
    "        10:'ten',\n",
    "        11:'eleven',\n",
    "        12:'twelve',\n",
    "        13:'thirteen',\n",
    "        14:'fourteen',\n",
    "        15:'fifteen',\n",
    "        16:'sixteen',\n",
    "        17:'seventeen',\n",
    "        18:'eighteen',\n",
    "        19:'nineteen',\n",
    "        20:'twenty',\n",
    "        30:'thirty',\n",
    "        40:'fourty',\n",
    "        50:'fifty',\n",
    "        60:'sixty',\n",
    "        70:'seventy',\n",
    "        80:'eighty',\n",
    "        90:'ninety',\n",
    "        100:'hundred',\n",
    "    }\n",
    "    if n < 10:\n",
    "        unit = du[n]\n",
    "        return unit\n",
    "    elif n >= 10 and n < 100:\n",
    "        if n <= 20:\n",
    "            tens = dt[n]\n",
    "            return tens\n",
    "        else:\n",
    "            td = (n//10)*10\n",
    "            ud = (n%10)\n",
    "            if td and ud:\n",
    "                tens = dt[td]\n",
    "                units = du[ud]\n",
    "                return tens+'-'+units\n",
    "    elif n >=100 and n < 1000:\n",
    "        hd = (n//100)*100\n",
    "        td = (n//100)*10\n",
    "        ud = (n%10)\n",
    "        if (hd and ud) or (hd and td and ud):\n",
    "            hundreds = dt[hd]\n",
    "            tens = dt[td]\n",
    "            units = du[ud]\n",
    "            return units+' '+hundreds+' and '+tens+'-'+units\n",
    "            "
   ]
  },
  {
   "cell_type": "code",
   "execution_count": 99,
   "metadata": {},
   "outputs": [
    {
     "name": "stdout",
     "output_type": "stream",
     "text": [
      "112\n",
      "112 = two hundred and ten-two\n"
     ]
    }
   ],
   "source": [
    "n = 112\n",
    "print n\n",
    "\n",
    "print n,'=',numtotext(n)"
   ]
  },
  {
   "cell_type": "code",
   "execution_count": null,
   "metadata": {
    "collapsed": true
   },
   "outputs": [],
   "source": []
  }
 ],
 "metadata": {
  "kernelspec": {
   "display_name": "Python 2",
   "language": "python",
   "name": "python2"
  },
  "language_info": {
   "codemirror_mode": {
    "name": "ipython",
    "version": 2
   },
   "file_extension": ".py",
   "mimetype": "text/x-python",
   "name": "python",
   "nbconvert_exporter": "python",
   "pygments_lexer": "ipython2",
   "version": "2.7.13"
  }
 },
 "nbformat": 4,
 "nbformat_minor": 2
}
