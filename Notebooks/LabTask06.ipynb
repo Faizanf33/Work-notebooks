{
 "cells": [
  {
   "cell_type": "code",
   "execution_count": 6,
   "metadata": {},
   "outputs": [
    {
     "name": "stdout",
     "output_type": "stream",
     "text": [
      "ﻑﯿﻀﺎﻥ ﺍﺣﻤﺪ\n"
     ]
    }
   ],
   "source": [
    "#My name in UNICODE\n",
    "\n",
    "print(u\"\\uFED1\\uFBFF\\uFEC0\\uFE8E\\uFEE5 \\uFE8D\\uFEA3\\uFEE4\\uFEAA\")"
   ]
  },
  {
   "cell_type": "code",
   "execution_count": 31,
   "metadata": {},
   "outputs": [
    {
     "name": "stdout",
     "output_type": "stream",
     "text": [
      "Enter first word : abc\n",
      "Enter first word : xyz\n",
      "xyc abz\n"
     ]
    }
   ],
   "source": [
    "def swap():\n",
    "    word1 = input(\"Enter first word : \")\n",
    "    word2 = input(\"Enter first word : \")\n",
    "    first = word2[0:2] + word1[-1:]     #word2 gets first two index's, word1 gets last index only\n",
    "    second = word1[0:2] + word2[-1:]    #word1 gets first two index's, word2 gets last index only\n",
    "    print (first,second)\n",
    "\n",
    "swap()"
   ]
  },
  {
   "cell_type": "code",
   "execution_count": 20,
   "metadata": {},
   "outputs": [
    {
     "name": "stdout",
     "output_type": "stream",
     "text": [
      "ybur\n",
      "('ruby', 'python')\n"
     ]
    }
   ],
   "source": [
    "Sample_String = 'ruby','python'\n",
    "#Expected Result : ybur, python\n",
    "\n",
    "def reverse_string(str1):\n",
    "    for i in str1:\n",
    "        if len(i) % 4 == 0:\n",
    "            print ''.join(reversed(i))\n",
    "    print (str1)\n",
    "\n",
    "reverse_string(Sample_String)"
   ]
  },
  {
   "cell_type": "code",
   "execution_count": 9,
   "metadata": {},
   "outputs": [
    {
     "name": "stdout",
     "output_type": "stream",
     "text": [
      "wxyhirx\n"
     ]
    }
   ],
   "source": [
    "string = \"student\"\n",
    "def encode(s):\n",
    "    new = \"\"\n",
    "    for i in string:\n",
    "        enc = chr(ord(i) + 4)\n",
    "        new += enc\n",
    "    print new\n",
    "\n",
    "encode(string)"
   ]
  },
  {
   "cell_type": "code",
   "execution_count": null,
   "metadata": {
    "collapsed": true
   },
   "outputs": [],
   "source": []
  }
 ],
 "metadata": {
  "kernelspec": {
   "display_name": "Python 2",
   "language": "python",
   "name": "python2"
  },
  "language_info": {
   "codemirror_mode": {
    "name": "ipython",
    "version": 2
   },
   "file_extension": ".py",
   "mimetype": "text/x-python",
   "name": "python",
   "nbconvert_exporter": "python",
   "pygments_lexer": "ipython2",
   "version": "2.7.13"
  }
 },
 "nbformat": 4,
 "nbformat_minor": 2
}
