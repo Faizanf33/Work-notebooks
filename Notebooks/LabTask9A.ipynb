{
 "cells": [
  {
   "cell_type": "markdown",
   "metadata": {},
   "source": [
    "# Q 7 "
   ]
  },
  {
   "cell_type": "code",
   "execution_count": 1,
   "metadata": {},
   "outputs": [
    {
     "name": "stdout",
     "output_type": "stream",
     "text": [
      "Enter number: 15\n",
      "15 * 1 = 15\n",
      "15 * 2 = 30\n",
      "15 * 3 = 45\n",
      "15 * 4 = 60\n",
      "15 * 5 = 75\n",
      "15 * 6 = 90\n",
      "15 * 7 = 105\n",
      "15 * 8 = 120\n",
      "15 * 9 = 135\n",
      "15 * 10 = 150\n"
     ]
    }
   ],
   "source": [
    "def table():\n",
    "    n = input('Enter number: ')\n",
    "    for i in range(1,11):\n",
    "        print n,'*',i,'=',n*i\n",
    "    return\n",
    "\n",
    "table()"
   ]
  },
  {
   "cell_type": "markdown",
   "metadata": {},
   "source": [
    "# Q4 "
   ]
  },
  {
   "cell_type": "code",
   "execution_count": 2,
   "metadata": {
    "collapsed": true
   },
   "outputs": [],
   "source": [
    "def valid_pass():\n",
    "    p = raw_input('Enter pass(6-16 char),must contain atleast 1 upper/lower case,1 num[0-9],1 chr[$#@] :\\n ')\n",
    "    l = []\n",
    "    upper,lower,digit = 0,0,0\n",
    "    if not (len(p) >= 6 and len(p) <= 16):\n",
    "        print 'Please enter a valid pass',\"length\"\n",
    "        return valid_pass()\n",
    "    \n",
    "    for i in p:\n",
    "        if i.isupper() == True:\n",
    "            upper += 1\n",
    "        if i.islower() == True:\n",
    "            lower += 1\n",
    "        if i.isdigit() == True:\n",
    "            digit += 1\n",
    "        l.append(i)\n",
    "    #print upper,lower,digit\n",
    "    if (upper == 0) or (lower == 0) or (digit == 0):\n",
    "        print 'Please enter a valid pass',\"u,l,d\"\n",
    "        return valid_pass()\n",
    "    \n",
    "    if not (('$' in l) or ('#' in l) or ('@' in l)):   \n",
    "        print 'Please enter a valid pass',\"chr\"\n",
    "        return valid_pass()\n",
    "    \n",
    "    print 'Password is valid'\n",
    "    return "
   ]
  },
  {
   "cell_type": "code",
   "execution_count": 3,
   "metadata": {},
   "outputs": [
    {
     "name": "stdout",
     "output_type": "stream",
     "text": [
      "Enter pass(6-16 char),must contain atleast 1 upper/lower case,1 num[0-9],1 chr[$#@] :\n",
      " 1245Askksjee\n",
      "Please enter a valid pass chr\n",
      "Enter pass(6-16 char),must contain atleast 1 upper/lower case,1 num[0-9],1 chr[$#@] :\n",
      " asslad@aA\n",
      "Please enter a valid pass u,l,d\n",
      "Enter pass(6-16 char),must contain atleast 1 upper/lower case,1 num[0-9],1 chr[$#@] :\n",
      " Alksdj221@\n",
      "Password is valid\n"
     ]
    }
   ],
   "source": [
    "valid_pass()"
   ]
  },
  {
   "cell_type": "markdown",
   "metadata": {},
   "source": [
    "# Q5 "
   ]
  },
  {
   "cell_type": "code",
   "execution_count": 88,
   "metadata": {
    "collapsed": true
   },
   "outputs": [],
   "source": [
    "def palindrome(s):\n",
    "    s = str(s)\n",
    "    for i in range(0,len(s)):\n",
    "        if s[0-i] == s[-1+i]:\n",
    "            if s[1] == s[-2]:\n",
    "                return 'String is palindrome'\n",
    "            else:\n",
    "                return 'String is not palindrome'\n",
    "        else:\n",
    "            return 'String is not palindrome'\n",
    "        "
   ]
  },
  {
   "cell_type": "code",
   "execution_count": 89,
   "metadata": {},
   "outputs": [
    {
     "data": {
      "text/plain": [
       "'String is palindrome'"
      ]
     },
     "execution_count": 89,
     "metadata": {},
     "output_type": "execute_result"
    }
   ],
   "source": [
    "palindrome(122334433221)"
   ]
  },
  {
   "cell_type": "markdown",
   "metadata": {},
   "source": [
    "# Q3 "
   ]
  },
  {
   "cell_type": "code",
   "execution_count": 82,
   "metadata": {
    "collapsed": true
   },
   "outputs": [],
   "source": [
    "def copy_list(l):\n",
    "    or_list = list(l)\n",
    "    dup_list = []\n",
    "    s = 0\n",
    "    for i in or_list:\n",
    "        dup_list.append(i)\n",
    "        s += i\n",
    "    dup_list.append(s)\n",
    "    print 'Original List: ',or_list\n",
    "    print 'Duplicate List: ',dup_list\n",
    "    return"
   ]
  },
  {
   "cell_type": "code",
   "execution_count": 86,
   "metadata": {},
   "outputs": [
    {
     "name": "stdout",
     "output_type": "stream",
     "text": [
      "Original List:  [1.2, 34.36, 32, 0, -21]\n",
      "Duplicate List:  [1.2, 34.36, 32, 0, -21, 46.56]\n"
     ]
    }
   ],
   "source": [
    "copy_list([1.2,34.36,32,0,-21])"
   ]
  },
  {
   "cell_type": "markdown",
   "metadata": {},
   "source": [
    "# Q1 "
   ]
  },
  {
   "cell_type": "code",
   "execution_count": 6,
   "metadata": {
    "collapsed": true
   },
   "outputs": [],
   "source": [
    "def game():\n",
    "    user1 = raw_input('Choose one(Rock/Paper/Scissors ): ')\n",
    "    user2 = raw_input('Choose one(Rock/Paper/Scissors ): ')\n",
    "    if (user1 == 'Rock') and (user2 == 'Paper'):\n",
    "        print 'User 1 Wins'\n",
    "        q = raw_input('Start a new game [Y/n]: ')\n",
    "        if (q == 'Y') or (q == 'y'):\n",
    "            return game()\n",
    "        else:\n",
    "            return 'Thanks for playing!'\n",
    "    elif (user1 == 'Rock') and (user2 == 'Scissors'):\n",
    "        print 'User 2 Wins'\n",
    "        q = raw_input('Start a new game [Y/n]: ')\n",
    "        if (q == 'Y') or (q == 'y'):\n",
    "            return game()\n",
    "        else:\n",
    "            return 'Thanks for playing!'\n",
    "    elif (user1 == 'Rock') and (user2 == 'Rock'):\n",
    "        print 'Match Draw!'\n",
    "        q = raw_input('Start a new game [Y/n]: ')\n",
    "        if (q == 'Y') or (q == 'y'):\n",
    "            return game()\n",
    "        else:\n",
    "            return 'Thanks for playing!'\n",
    "        \n",
    "    elif (user1 == 'Scissors') and (user2 == 'Paper'):\n",
    "        print 'User 1 Wins'\n",
    "        q = raw_input('Start a new game [Y/n]: ')\n",
    "        if (q == 'Y') or (q == 'y'):\n",
    "            return game()\n",
    "        else:\n",
    "            return 'Thanks for playing!'\n",
    "    elif (user1 == 'Scissors') and (user2 == 'Scissors'):\n",
    "        print 'Match Draw!'\n",
    "        q = raw_input('Start a new game [Y/n]: ')\n",
    "        if (q == 'Y') or (q == 'y'):\n",
    "            return game()\n",
    "        else:\n",
    "            return 'Thanks for playing!'\n",
    "    elif (user1 == 'Scissors') and (user2 == 'Rock'):\n",
    "        print 'User 1 Wins'\n",
    "        q = raw_input('Start a new game [Y/n]: ')\n",
    "        if (q == 'Y') or (q == 'y'):\n",
    "            return game()\n",
    "        else:\n",
    "            return 'Thanks for playing!'\n",
    "        \n",
    "    elif (user1 == 'Paper') and (user2 == 'Paper'):\n",
    "        print 'Match Draw!'\n",
    "        q = raw_input('Start a new game [Y/n]: ')\n",
    "        if (q == 'Y') or (q == 'y'):\n",
    "            return game()\n",
    "        else:\n",
    "            return 'Thanks for playing!'\n",
    "    elif (user1 == 'Paper') and (user2 == 'Scissors'):\n",
    "        print 'User 2 Wins'\n",
    "        q = raw_input('Start a new game [Y/n]: ')\n",
    "        if (q == 'Y') or (q == 'y'):\n",
    "            return game()\n",
    "        else:\n",
    "            return 'Thanks for playing!'\n",
    "    elif (user1 == 'Paper') and (user2 == 'Rock'):\n",
    "        print 'User 1 Wins'\n",
    "        q = raw_input('Start a new game [Y/n]: ')\n",
    "        if (q == 'Y') or (q == 'y'):\n",
    "            return game()\n",
    "        else:\n",
    "            return 'Thanks for playing!'\n",
    "    else:\n",
    "        print (\"Wrong Selection!\")\n",
    "        return game()\n",
    "    "
   ]
  },
  {
   "cell_type": "code",
   "execution_count": null,
   "metadata": {},
   "outputs": [
    {
     "name": "stdout",
     "output_type": "stream",
     "text": [
      "Choose one(Rock/Paper/Scissors ): rock\n",
      "Choose one(Rock/Paper/Scissors ): rock\n",
      "Wrong Selection!\n",
      "Choose one(Rock/Paper/Scissors ): Rock\n",
      "Choose one(Rock/Paper/Scissors ): Rocc\n",
      "Wrong Selection!\n",
      "Choose one(Rock/Paper/Scissors ): Rock\n",
      "Choose one(Rock/Paper/Scissors ): Scissors\n",
      "User 2 Wins\n"
     ]
    }
   ],
   "source": [
    "game()"
   ]
  },
  {
   "cell_type": "code",
   "execution_count": 140,
   "metadata": {
    "collapsed": true
   },
   "outputs": [],
   "source": [
    "def add(*arg):\n",
    "    print s\n",
    "    count = 0\n",
    "    if len(arg) == 1:\n",
    "        return arg\n",
    "    else:\n",
    "        for i in s:\n",
    "            print i\n",
    "            count += int(i)\n",
    "        return count\n",
    "        \n",
    "    "
   ]
  },
  {
   "cell_type": "code",
   "execution_count": 141,
   "metadata": {},
   "outputs": [
    {
     "name": "stdout",
     "output_type": "stream",
     "text": [
      "45.12\n"
     ]
    },
    {
     "ename": "TypeError",
     "evalue": "'float' object is not iterable",
     "output_type": "error",
     "traceback": [
      "\u001b[0;31m---------------------------------------------------------------------------\u001b[0m",
      "\u001b[0;31mTypeError\u001b[0m                                 Traceback (most recent call last)",
      "\u001b[0;32m<ipython-input-141-05b79e13acba>\u001b[0m in \u001b[0;36m<module>\u001b[0;34m()\u001b[0m\n\u001b[0;32m----> 1\u001b[0;31m \u001b[0madd\u001b[0m\u001b[0;34m(\u001b[0m\u001b[0;36m1\u001b[0m\u001b[0;34m,\u001b[0m\u001b[0;36m2\u001b[0m\u001b[0;34m,\u001b[0m\u001b[0;36m3\u001b[0m\u001b[0;34m,\u001b[0m\u001b[0;36m4\u001b[0m\u001b[0;34m,\u001b[0m\u001b[0;36m5\u001b[0m\u001b[0;34m)\u001b[0m\u001b[0;34m\u001b[0m\u001b[0m\n\u001b[0m",
      "\u001b[0;32m<ipython-input-140-7ee41d54730f>\u001b[0m in \u001b[0;36madd\u001b[0;34m(*arg)\u001b[0m\n\u001b[1;32m      5\u001b[0m         \u001b[0;32mreturn\u001b[0m \u001b[0marg\u001b[0m\u001b[0;34m\u001b[0m\u001b[0m\n\u001b[1;32m      6\u001b[0m     \u001b[0;32melse\u001b[0m\u001b[0;34m:\u001b[0m\u001b[0;34m\u001b[0m\u001b[0m\n\u001b[0;32m----> 7\u001b[0;31m         \u001b[0;32mfor\u001b[0m \u001b[0mi\u001b[0m \u001b[0;32min\u001b[0m \u001b[0ms\u001b[0m\u001b[0;34m:\u001b[0m\u001b[0;34m\u001b[0m\u001b[0m\n\u001b[0m\u001b[1;32m      8\u001b[0m             \u001b[0;32mprint\u001b[0m \u001b[0mi\u001b[0m\u001b[0;34m\u001b[0m\u001b[0m\n\u001b[1;32m      9\u001b[0m             \u001b[0mcount\u001b[0m \u001b[0;34m+=\u001b[0m \u001b[0mint\u001b[0m\u001b[0;34m(\u001b[0m\u001b[0mi\u001b[0m\u001b[0;34m)\u001b[0m\u001b[0;34m\u001b[0m\u001b[0m\n",
      "\u001b[0;31mTypeError\u001b[0m: 'float' object is not iterable"
     ]
    }
   ],
   "source": [
    "add(1,2,3,4,5)"
   ]
  },
  {
   "cell_type": "code",
   "execution_count": null,
   "metadata": {
    "collapsed": true
   },
   "outputs": [],
   "source": []
  }
 ],
 "metadata": {
  "kernelspec": {
   "display_name": "Python 2",
   "language": "python",
   "name": "python2"
  },
  "language_info": {
   "codemirror_mode": {
    "name": "ipython",
    "version": 2
   },
   "file_extension": ".py",
   "mimetype": "text/x-python",
   "name": "python",
   "nbconvert_exporter": "python",
   "pygments_lexer": "ipython2",
   "version": "2.7.13"
  }
 },
 "nbformat": 4,
 "nbformat_minor": 2
}
