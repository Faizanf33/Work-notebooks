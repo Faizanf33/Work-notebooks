{
 "cells": [
  {
   "cell_type": "code",
   "execution_count": 2,
   "metadata": {
    "collapsed": true
   },
   "outputs": [],
   "source": [
    "def cumulative_marks(results):\n",
    "    \"\"\"\n",
    "    Function takes a list of tuples as an argument,\n",
    "\n",
    "    Pattern must be as follows:\n",
    "    [('Roll No.', 'Student Name', Marks, Marks, Marks, etc),('Roll No.', 'Student Name',), etc]\n",
    "    \n",
    "    Where Roll No. e.g. 'p171111','b160011',etc\n",
    "    Student Name e.g. 'Mark',\n",
    "    Marks e.g. 10, None, A(considered absent or = 0), etc\n",
    "\n",
    "    It returns the cumulative marks of each student.\n",
    "    \"\"\"\n",
    "    #students info. dictionary\n",
    "    std_d = {}\n",
    "\n",
    "    try:\n",
    "        if (results == None) or (results == '') :\n",
    "            return None\n",
    "\n",
    "        elif results == []:\n",
    "            return []\n",
    "\n",
    "        for info in results:\n",
    "            #replaces roll no. in the format e.g. 11P-1111\n",
    "            if (info[0][0].lower().isalpha() == False) or (info[0][1:].isdigit() == False):\n",
    "                raise ValueError\n",
    "            \n",
    "            roll_no = (info[0].replace(info[0][0:], info[0][1:3]+info[0][0].upper()+'-'+info[0][3:]))\n",
    "            std_d[roll_no] = 0\n",
    "            if len(info) >= 2:\n",
    "\n",
    "                for m in info[2:]:\n",
    "\n",
    "                    if (m == None) or (m == 'A'):\n",
    "                        std_d[roll_no] += 0\n",
    "\n",
    "                    else:\n",
    "                        std_d[roll_no] += m\n",
    "\n",
    "            else:\n",
    "                return [(roll_no, info[1], std_d[roll_no] ) for info in results]\n",
    "\n",
    "\n",
    "        return [((info[0].replace(info[0][0:], info[0][1:3]+info[0][0].upper()+'-'+info[0][3:])) , info[1], std_d[(info[0].replace(info[0][0:], info[0][1:3]+info[0][0].upper()+'-'+info[0][3:]))]) for info in results]\n",
    "    except:\n",
    "        IndexError, ValueError\n",
    "        print (\"Please provide correct field or see help(cumulative_marks)\")\n"
   ]
  },
  {
   "cell_type": "code",
   "execution_count": 5,
   "metadata": {},
   "outputs": [
    {
     "data": {
      "text/plain": [
       "[('17I-6020', 'Faizan', 98.2), ('17P-6021', 'Faizan', 98.2)]"
      ]
     },
     "execution_count": 5,
     "metadata": {},
     "output_type": "execute_result"
    }
   ],
   "source": [
    "cumulative_marks([(\"i176020\",\"Faizan\",78,20.2),(\"p176021\",\"Faizan\",78,20.2)])"
   ]
  },
  {
   "cell_type": "code",
   "execution_count": 9,
   "metadata": {},
   "outputs": [
    {
     "name": "stdout",
     "output_type": "stream",
     "text": [
      "Help on function cumulative_marks in module __main__:\n",
      "\n",
      "cumulative_marks(results)\n",
      "    Function takes a list of tuples as an argument,\n",
      "    \n",
      "    Pattern must be as follows:\n",
      "    [('Roll No.', 'Student Name', Marks, Marks, Marks, etc),('Roll No.', 'Student Name',), etc]\n",
      "    \n",
      "    Where Roll No. e.g. 'p171111',\n",
      "    Student Name e.g. 'Mark',\n",
      "    Marks e.g. 10, None, A(as absent), etc\n",
      "    \n",
      "    It returns the cumulative marks of each student.\n",
      "\n"
     ]
    }
   ],
   "source": [
    "help(cumulative_marks)"
   ]
  },
  {
   "cell_type": "code",
   "execution_count": null,
   "metadata": {
    "collapsed": true
   },
   "outputs": [],
   "source": []
  }
 ],
 "metadata": {
  "kernelspec": {
   "display_name": "Python 2",
   "language": "python",
   "name": "python2"
  },
  "language_info": {
   "codemirror_mode": {
    "name": "ipython",
    "version": 2
   },
   "file_extension": ".py",
   "mimetype": "text/x-python",
   "name": "python",
   "nbconvert_exporter": "python",
   "pygments_lexer": "ipython2",
   "version": "2.7.13"
  }
 },
 "nbformat": 4,
 "nbformat_minor": 2
}
