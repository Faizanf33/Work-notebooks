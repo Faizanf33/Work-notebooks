{
 "cells": [
  {
   "cell_type": "code",
   "execution_count": 1,
   "metadata": {},
   "outputs": [
    {
     "ename": "TypeError",
     "evalue": "'str' object is not callable",
     "output_type": "error",
     "traceback": [
      "\u001b[0;31m---------------------------------------------------------------------------\u001b[0m",
      "\u001b[0;31mTypeError\u001b[0m                                 Traceback (most recent call last)",
      "\u001b[0;32m<ipython-input-1-6810a360c3f8>\u001b[0m in \u001b[0;36m<module>\u001b[0;34m()\u001b[0m\n\u001b[1;32m      1\u001b[0m \u001b[0ma\u001b[0m \u001b[0;34m=\u001b[0m \u001b[0;34m\"H1e2l3l4o5w6o7r8l9d\"\u001b[0m\u001b[0;34m\u001b[0m\u001b[0m\n\u001b[1;32m      2\u001b[0m \u001b[0;32mfor\u001b[0m \u001b[0mi\u001b[0m \u001b[0;32min\u001b[0m \u001b[0ma\u001b[0m\u001b[0;34m:\u001b[0m\u001b[0;34m\u001b[0m\u001b[0m\n\u001b[0;32m----> 3\u001b[0;31m     \u001b[0;32mif\u001b[0m \u001b[0mlen\u001b[0m\u001b[0;34m(\u001b[0m\u001b[0ma\u001b[0m\u001b[0;34m)\u001b[0m\u001b[0;34m/\u001b[0m\u001b[0;36m2\u001b[0m \u001b[0;34m==\u001b[0m \u001b[0mlen\u001b[0m\u001b[0;34m(\u001b[0m\u001b[0ma\u001b[0m\u001b[0;34m(\u001b[0m\u001b[0mi\u001b[0m\u001b[0;34m)\u001b[0m\u001b[0;34m)\u001b[0m\u001b[0;34m:\u001b[0m\u001b[0;34m\u001b[0m\u001b[0m\n\u001b[0m\u001b[1;32m      4\u001b[0m         \u001b[0;32mprint\u001b[0m \u001b[0mi\u001b[0m\u001b[0;34m\u001b[0m\u001b[0m\n",
      "\u001b[0;31mTypeError\u001b[0m: 'str' object is not callable"
     ]
    }
   ],
   "source": [
    "a = \"H1e2l3l4o5w6o7r8l9d\"\n",
    "for i in a:\n",
    "    if len(a)/2 == len(a(i)):\n",
    "        print i"
   ]
  },
  {
   "cell_type": "code",
   "execution_count": null,
   "metadata": {
    "collapsed": true
   },
   "outputs": [],
   "source": []
  },
  {
   "cell_type": "code",
   "execution_count": null,
   "metadata": {
    "collapsed": true
   },
   "outputs": [],
   "source": []
  },
  {
   "cell_type": "code",
   "execution_count": 3,
   "metadata": {
    "collapsed": true
   },
   "outputs": [],
   "source": [
    "def hangman():\n",
    "    import random\n",
    "    name = raw_input(\"What is your name? \")\n",
    "    print \"Hello,\",name,\"Time to play hangman!\"\n",
    "    \n",
    "    WORDS = (\"python\", \"jumble\", \"easy\", \"difficult\", \"answer\", \"FAST\", \"fake\")\n",
    "    word = random.choice(WORDS)\n",
    "    #print word\n",
    "    n = 0\n",
    "    space = \"\"\n",
    "    list = []\n",
    "    guesses = 10\n",
    "    while guesses != 0:\n",
    "        print \"Start guessing... \"\n",
    "        guess = raw_input(\"guess a character: \")\n",
    "        \n",
    "        if guess in word:\n",
    "            w = word.index(guess)\n",
    "            list.insert(w,guess)\n",
    "            space*= abs(len(word)-w)\n",
    "            \n",
    "            \n",
    "        else:\n",
    "            guesses -= 1 \n",
    "            print \"wrong \\nYou have\",guesses,\"more guesses\"\n",
    "            break\n",
    "        print list\n",
    "    for i in list:\n",
    "        space+=i\n",
    "        space+=\"_\"\n",
    "    print space\n",
    "        \n",
    "\n",
    "      "
   ]
  },
  {
   "cell_type": "code",
   "execution_count": 4,
   "metadata": {},
   "outputs": [
    {
     "name": "stdout",
     "output_type": "stream",
     "text": [
      "What is your name? jawad\n",
      "Hello, jawad Time to play hangman!\n",
      "Start guessing... \n",
      "guess a character: f\n",
      "wrong \n",
      "You have 9 more guesses\n",
      "\n"
     ]
    }
   ],
   "source": [
    "hangman()"
   ]
  },
  {
   "cell_type": "code",
   "execution_count": null,
   "metadata": {
    "collapsed": true
   },
   "outputs": [],
   "source": [
    "def assign_grades():\n",
    "    Roll_number = raw_input(\"Enter student's roll number = \")\n",
    "    Tutorial_M = input(\"Enter student’s tutorial mark b/w 1 to 25 = \")\n",
    "    Test_M = input(\"Enter student’s test mark b/w 1 to 25 = \")\n",
    "    \n",
    "    Average = ((Tutorial_M + Test_M) / 50.0) * 100\n",
    "    if Average < 40:\n",
    "        print \"Student with roll number\",Roll_number,\"has Grade F\"\n",
    "        return\n",
    "    \n",
    "    dselif Average >= 40:\n",
    "        Exam_M = input(\"Enter student’s exam mark b/w 1 to 50 = \")\n",
    "        Avg = int(((Tutorial_M + Test_M + Exam_M) / 100.0) * 100)\n",
    "        if Avg >= 80 and Avg <= 100:\n",
    "            print \"Student with roll number\",Roll_number,\"has Grade A\"\n",
    "        elif Avg >= 70 and Avg < 80:\n",
    "            print \"Student with roll number\",Roll_number,\"has Grade B\"\n",
    "        elif Avg >= 60 and Avg < 70:\n",
    "            print \"Student with roll number\",Roll_number,\"has Grade C\"\n",
    "        elif Avg >= 50 and Avg < 60:\n",
    "            print \"Student with roll number\",Roll_number,\"has Grade D\"\n",
    "        elif Avg < 50:\n",
    "            print \"Student with roll number\",Roll_number,\"has Grade D\"\n",
    "        else:\n",
    "            print None\n",
    "        "
   ]
  },
  {
   "cell_type": "code",
   "execution_count": null,
   "metadata": {
    "collapsed": true
   },
   "outputs": [],
   "source": [
    "assign_grades()"
   ]
  },
  {
   "cell_type": "code",
   "execution_count": null,
   "metadata": {
    "collapsed": true
   },
   "outputs": [],
   "source": [
    "10 * 0.25"
   ]
  },
  {
   "cell_type": "code",
   "execution_count": 19,
   "metadata": {},
   "outputs": [
    {
     "name": "stdout",
     "output_type": "stream",
     "text": [
      "-- Calculator Menu -- \n",
      "\n",
      "0. Quit \n",
      "1. Add two numbers \n",
      "2. Subtract two numbers \n",
      "3. Multiply two numbers \n",
      "4. Divide two numbers \n",
      "5. Square a number \n",
      "6. Square root a number \n",
      "7. Factorial of a number \n",
      "8. Fib of a number \n",
      "\n",
      "8\n",
      "Enter a number12\n",
      "Result = 144\n",
      "-- Calculator Menu -- \n",
      "\n",
      "0. Quit \n",
      "1. Add two numbers \n",
      "2. Subtract two numbers \n",
      "3. Multiply two numbers \n",
      "4. Divide two numbers \n",
      "5. Square a number \n",
      "6. Square root a number \n",
      "7. Factorial of a number \n",
      "8. Fib of a number \n",
      "\n",
      "0\n"
     ]
    }
   ],
   "source": [
    "def calculator():\n",
    "    C_Menu = input(\"-- Calculator Menu -- \\n\\n0. Quit \\n1. Add two numbers \\n2. Subtract two numbers \\n3. Multiply two numbers \\n4. Divide two numbers \\n5. Square a number \\n6. Square root a number \\n7. Factorial of a number \\n8. Fib of a number \\n\\n\")\n",
    "    while (C_Menu != 0):\n",
    "        if type(C_Menu) == str:\n",
    "            C_Menu = int(C_Menu)\n",
    "        if C_Menu == 1:\n",
    "            Num1 = input(\"Enter first number = \")\n",
    "            Num2 = input(\"Enter second number = \")\n",
    "            Add = Num1 + Num2\n",
    "            print \"Result =\",Add\n",
    "    \n",
    "        elif C_Menu == 2:\n",
    "            Num1 = input(\"Enter first number = \")\n",
    "            Num2 = input(\"Enter second number = \")\n",
    "            Sub = abs(Num1 - Num2)\n",
    "            print \"Result =\",Sub\n",
    "    \n",
    "        elif C_Menu == 3:\n",
    "            Num1 = input(\"Enter first number = \")\n",
    "            Num2 = input(\"Enter second number = \")\n",
    "            Mul = Num1 * Num2\n",
    "            print \"Result =\",Mul\n",
    "    \n",
    "        elif C_Menu == 4:\n",
    "            Num1 = input(\"Enter first number = \")\n",
    "            Num2 = input(\"Enter second number = \")\n",
    "            Div1 = Num1 / float(Num2)\n",
    "            Div2 = Num1 // float(Num2)\n",
    "            if Div1 == Div2:\n",
    "                print \"Result =\",int(Div1)\n",
    "            else:\n",
    "                print \"Result =\", Div1\n",
    "        \n",
    "        elif C_Menu == 5:\n",
    "            Num = input(\"Enter a number = \")\n",
    "            Square = Num * Num\n",
    "            print \"Result =\",Square\n",
    "            \n",
    "        elif C_Menu == 6:\n",
    "            Num = input(\"Enter a number = \")\n",
    "            from math import sqrt\n",
    "            Sqrt = sqrt(Num)\n",
    "            print \"Result =\",Sqrt\n",
    "            \n",
    "        elif C_Menu == 7:\n",
    "            Num = input(\"Enter a number = \")\n",
    "            factorial = 1\n",
    "            for i in range(1,Num+1):\n",
    "                factorial = factorial * i\n",
    "            print \"Result =\",factorial\n",
    "            \n",
    "        elif C_Menu == 8:\n",
    "            Num = input(\"Enter a number\")\n",
    "            a,b = 0 ,1 \n",
    "            if Num <= 1:\n",
    "                print \"Result =\",Num\n",
    "                return\n",
    "            else:\n",
    "                for i in range(1, Num+1): \n",
    "                    Num = a + b\n",
    "                    a = b\n",
    "                    b = Num\n",
    "                print \"Result =\",a\n",
    "        \n",
    "        else:\n",
    "            print \"Please select a given entry.\"\n",
    "        \n",
    "        C_Menu = input(\"-- Calculator Menu -- \\n\\n0. Quit \\n1. Add two numbers \\n2. Subtract two numbers \\n3. Multiply two numbers \\n4. Divide two numbers \\n5. Square a number \\n6. Square root a number \\n7. Factorial of a number \\n8. Fib of a number \\n\\n\")\n",
    "\n",
    "\n",
    "calculator()"
   ]
  },
  {
   "cell_type": "code",
   "execution_count": null,
   "metadata": {
    "collapsed": true
   },
   "outputs": [],
   "source": [
    "calculator()"
   ]
  },
  {
   "cell_type": "code",
   "execution_count": null,
   "metadata": {
    "collapsed": true
   },
   "outputs": [],
   "source": [
    "def only_even():\n",
    "    number =input(\"Enter a number\")\n",
    "    while number != 99:\n",
    "        if number%2 == 0:\n",
    "            print number\n",
    "        number =input(\"Enter a number\")"
   ]
  },
  {
   "cell_type": "code",
   "execution_count": null,
   "metadata": {
    "collapsed": true
   },
   "outputs": [],
   "source": [
    "only_even()"
   ]
  },
  {
   "cell_type": "code",
   "execution_count": null,
   "metadata": {
    "collapsed": true
   },
   "outputs": [],
   "source": [
    "def sum_square():\n",
    "    total = 0\n",
    "    squarew = 0 \n",
    "    i = 0\n",
    "    while (i < 200):\n",
    "        total += 1\n",
    "        square = total ** 2\n",
    "        continue\n",
    "        \n",
    "    print \"Total =\",square\n",
    "    print \"Last number =\",total\n",
    "    \n",
    "        "
   ]
  },
  {
   "cell_type": "code",
   "execution_count": null,
   "metadata": {
    "collapsed": true
   },
   "outputs": [],
   "source": []
  }
 ],
 "metadata": {
  "kernelspec": {
   "display_name": "Python 2",
   "language": "python",
   "name": "python2"
  },
  "language_info": {
   "codemirror_mode": {
    "name": "ipython",
    "version": 2
   },
   "file_extension": ".py",
   "mimetype": "text/x-python",
   "name": "python",
   "nbconvert_exporter": "python",
   "pygments_lexer": "ipython2",
   "version": "2.7.13"
  }
 },
 "nbformat": 4,
 "nbformat_minor": 2
}
