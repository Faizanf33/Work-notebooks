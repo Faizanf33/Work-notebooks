{
 "cells": [
  {
   "cell_type": "code",
   "execution_count": 292,
   "metadata": {},
   "outputs": [],
   "source": [
    "def dec_conv(num, formt = 'bin'):\n",
    "    \"\"\"\n",
    "    Function takes in two arguments, first; a number of type(int),\n",
    "    And second; format of convertion.\n",
    "    \n",
    "    Format can either be 'hex', 'bin', 'oct'.\n",
    "    \n",
    "    \"\"\"\n",
    "    d = {\n",
    "        'b' : 2, 'h' : 16, 'o' : 8, 10 : 'A', 11 : 'B', 12 : 'C', 13 : 'D' , 14 : 'E', 15 : 'F' \n",
    "    }\n",
    "    if type(num) == float:\n",
    "        return 'Number Must Be An Integer!, for further guide, see help(dec_conv)'\n",
    "\n",
    "    try:\n",
    "        if (formt[0] == 'b') or (formt[0] == 'o'):\n",
    "            c = ('b' if (formt[0] == 'b') else 'o')\n",
    "        \n",
    "        else:\n",
    "            c = 'x'\n",
    "\n",
    "        formt = d[c]\n",
    "    \n",
    "    except Exception:\n",
    "        return 'Format *{}* Not Found!, for further guide, see help(dec_conv)'.format(formt)\n",
    "    \n",
    "    if (num < 0):\n",
    "        negetive = True\n",
    "        num = abs(num)\n",
    "        \n",
    "    else:\n",
    "        negetive = False\n",
    "        \n",
    "    result = ''\n",
    "                \n",
    "    while (num >= formt):\n",
    "        if (num % formt) > 9:\n",
    "            result += d[(num % formt)]\n",
    "    \n",
    "        else:\n",
    "            result += str(num % formt)\n",
    "        num = num // formt\n",
    "    \n",
    "    if num > 9:\n",
    "        result += d[(num % formt)]\n",
    "    \n",
    "    else:\n",
    "        result += str(num)\n",
    "    \n",
    "    if negetive == True:\n",
    "        return '-0'+c+result[::-1]\n",
    "    \n",
    "    else:\n",
    "        return '0'+c+result[::-1]\n",
    "        "
   ]
  },
  {
   "cell_type": "code",
   "execution_count": 294,
   "metadata": {
    "scrolled": true
   },
   "outputs": [
    {
     "data": {
      "text/plain": [
       "'Number Must Be An Integer!, for further guide, see help(dec_conv)'"
      ]
     },
     "execution_count": 294,
     "metadata": {},
     "output_type": "execute_result"
    }
   ],
   "source": [
    "dec_conv(15222222.0,'octal')"
   ]
  },
  {
   "cell_type": "code",
   "execution_count": 258,
   "metadata": {},
   "outputs": [
    {
     "name": "stdout",
     "output_type": "stream",
     "text": [
      "Help on function dec_conv in module __main__:\n",
      "\n",
      "dec_conv(num, formt='bin')\n",
      "    Function takes in two arguments, first; a number of type(int),\n",
      "    And second; format of convertion.\n",
      "    \n",
      "    Format can either be 'hex', 'bin', 'oct'.\n",
      "\n"
     ]
    }
   ],
   "source": [
    "help(dec_conv)"
   ]
  },
  {
   "cell_type": "code",
   "execution_count": 259,
   "metadata": {},
   "outputs": [
    {
     "name": "stdout",
     "output_type": "stream",
     "text": [
      "Help on built-in function bin in module builtins:\n",
      "\n",
      "bin(number, /)\n",
      "    Return the binary representation of an integer.\n",
      "    \n",
      "    >>> bin(2796202)\n",
      "    '0b1010101010101010101010'\n",
      "\n"
     ]
    }
   ],
   "source": [
    "help(bin)"
   ]
  },
  {
   "cell_type": "code",
   "execution_count": 291,
   "metadata": {},
   "outputs": [
    {
     "data": {
      "text/plain": [
       "True"
      ]
     },
     "execution_count": 291,
     "metadata": {},
     "output_type": "execute_result"
    }
   ],
   "source": [
    "oct(-123131000) == dec_conv(-123131000,'oct')"
   ]
  },
  {
   "cell_type": "code",
   "execution_count": 261,
   "metadata": {
    "scrolled": true
   },
   "outputs": [
    {
     "data": {
      "text/plain": [
       "True"
      ]
     },
     "execution_count": 261,
     "metadata": {},
     "output_type": "execute_result"
    }
   ],
   "source": [
    "hex(5645464654) == dec_conv(5645464654, 'hex')"
   ]
  },
  {
   "cell_type": "code",
   "execution_count": 262,
   "metadata": {
    "scrolled": true
   },
   "outputs": [
    {
     "data": {
      "text/plain": [
       "'0b1101001111010110'"
      ]
     },
     "execution_count": 262,
     "metadata": {},
     "output_type": "execute_result"
    }
   ],
   "source": [
    "dec_conv(54230, 'bin')"
   ]
  },
  {
   "cell_type": "code",
   "execution_count": 269,
   "metadata": {},
   "outputs": [
    {
     "data": {
      "text/plain": [
       "'0x2e93c04b0607'"
      ]
     },
     "execution_count": 269,
     "metadata": {},
     "output_type": "execute_result"
    }
   ],
   "source": [
    "hex(51212121212423)"
   ]
  },
  {
   "cell_type": "code",
   "execution_count": 275,
   "metadata": {},
   "outputs": [
    {
     "data": {
      "text/plain": [
       "'0x2E93C04B0607'"
      ]
     },
     "execution_count": 275,
     "metadata": {},
     "output_type": "execute_result"
    }
   ],
   "source": [
    "dec_conv(51212121212423,'hex')"
   ]
  },
  {
   "cell_type": "code",
   "execution_count": null,
   "metadata": {
    "collapsed": true
   },
   "outputs": [],
   "source": []
  }
 ],
 "metadata": {
  "kernelspec": {
   "display_name": "Python 3",
   "language": "python",
   "name": "python3"
  },
  "language_info": {
   "codemirror_mode": {
    "name": "ipython",
    "version": 3
   },
   "file_extension": ".py",
   "mimetype": "text/x-python",
   "name": "python",
   "nbconvert_exporter": "python",
   "pygments_lexer": "ipython3",
   "version": "3.6.2"
  }
 },
 "nbformat": 4,
 "nbformat_minor": 2
}
