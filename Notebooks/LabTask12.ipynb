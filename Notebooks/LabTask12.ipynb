{
 "cells": [
  {
   "cell_type": "markdown",
   "metadata": {},
   "source": [
    "# Q1"
   ]
  },
  {
   "cell_type": "code",
   "execution_count": 51,
   "metadata": {},
   "outputs": [
    {
     "name": "stdout",
     "output_type": "stream",
     "text": [
      "Number cannot be divided by 0\n"
     ]
    }
   ],
   "source": [
    "def divide(num1,num2):\n",
    "    try:\n",
    "        res = num1/float(num2)\n",
    "        print (\"Result:\",res)\n",
    "        \n",
    "    except ZeroDivisionError:\n",
    "        print (\"Number cannot be divided by\",num2)\n",
    "    \n",
    "\n",
    "divide(0,0)"
   ]
  },
  {
   "cell_type": "markdown",
   "metadata": {},
   "source": [
    "# Q2"
   ]
  },
  {
   "cell_type": "code",
   "execution_count": 48,
   "metadata": {},
   "outputs": [
    {
     "name": "stdout",
     "output_type": "stream",
     "text": [
      "Please enter your name: faizanf33\n",
      "name is Invalid!\n",
      "Please enter your name: Faizan\n",
      "Please enter your surname: my123\n",
      "surname is Invalid!\n",
      "Please enter your surname: Ahmad\n",
      "Please enter your age: twenty\n",
      "age must be in digits\n",
      "Please enter your age: 20\n",
      "Please enter your height: five point nine\n",
      "height must be in digits\\decimals\n",
      "Please enter your height: 5.9\n",
      "Please enter your weight: sixty seven\n",
      "weight must be in digits\\decimals\n",
      "Please enter your weight: 67\n",
      "Thanks for your precious time. Don't worry, your info. will be kept safe.\n"
     ]
    }
   ],
   "source": [
    "try:\n",
    "    input = raw_input\n",
    "except:\n",
    "    pass\n",
    "\n",
    "person = {}\n",
    "properties = [\n",
    "    (\"name\",str),\n",
    "    (\"surname\",str),\n",
    "    (\"age\",int),\n",
    "    (\"height\",float),\n",
    "    (\"weight\",float)\n",
    "]\n",
    "\n",
    "for prop, p_type in properties:\n",
    "    p = input(\"Please enter your %s: \" %prop)\n",
    "    \n",
    "    while True:\n",
    "        if ((prop == 'name') or (prop == 'surname')):\n",
    "            if (p.isalpha() != True):\n",
    "                print(prop,\"is Invalid!\")\n",
    "                False\n",
    "                \n",
    "            else:\n",
    "                person[prop] = p_type(p)\n",
    "                break\n",
    "        \n",
    "        elif (prop == 'age'):\n",
    "            try:\n",
    "                p = int(p)\n",
    "                person[prop] = p_type(p)\n",
    "                break\n",
    "            \n",
    "            except ValueError:\n",
    "                print (prop,\"must be in digits\")\n",
    "                False\n",
    "                \n",
    "        elif ((prop == 'height') or (prop == 'weight')):\n",
    "            try: \n",
    "                p = float(p)\n",
    "                person[prop] = p_type(p)\n",
    "                break\n",
    "                \n",
    "            except ValueError:\n",
    "                print (prop,\"must be in digits\\decimals\")\n",
    "                False\n",
    "                \n",
    "        p = input(\"Please enter your %s: \" %prop)\n",
    "                \n",
    "print(\"Thanks for your precious time. Don't worry, your info. will be kept safe.\")"
   ]
  },
  {
   "cell_type": "markdown",
   "metadata": {},
   "source": [
    "# Q3"
   ]
  },
  {
   "cell_type": "code",
   "execution_count": 39,
   "metadata": {},
   "outputs": [
    {
     "name": "stdout",
     "output_type": "stream",
     "text": [
      "The index provided exceeds the length of the list.\n"
     ]
    }
   ],
   "source": [
    "def print_list_element(thelist,index):\n",
    "    try:\n",
    "        print(thelist[index])\n",
    "    \n",
    "    except IndexError:\n",
    "        print(\"The index provided exceeds the length of the list.\")\n",
    "        \n",
    "print_list_element([1,22,3,4,5,6,7,8],21)"
   ]
  },
  {
   "cell_type": "markdown",
   "metadata": {},
   "source": [
    "# Q4"
   ]
  },
  {
   "cell_type": "code",
   "execution_count": 52,
   "metadata": {},
   "outputs": [
    {
     "name": "stdout",
     "output_type": "stream",
     "text": [
      "Please enter your name: Faizan22\n",
      "name is Invalid!\n",
      "Please enter your name: Faizan\n",
      "Please enter your surname: Ahmad\n",
      "Please enter your age: sd\n",
      "Error: invalid literal for int() with base 10: 'sd'\n",
      "Please enter your age: 20\n",
      "Please enter your height: nine\n",
      "Error: could not convert string to float: 'nine'\n",
      "Please enter your height: 5.8\n",
      "Please enter your weight: sixty\n",
      "Error: could not convert string to float: 'sixty'\n",
      "Please enter your weight: 67\n",
      "Thanks for your precious time. Don't worry, your info. will be kept safe.\n"
     ]
    }
   ],
   "source": [
    "try:\n",
    "    input = raw_input\n",
    "except:\n",
    "    pass\n",
    "\n",
    "person = {}\n",
    "properties = [\n",
    "    (\"name\",str),\n",
    "    (\"surname\",str),\n",
    "    (\"age\",int),\n",
    "    (\"height\",float),\n",
    "    (\"weight\",float)\n",
    "]\n",
    "\n",
    "for prop, p_type in properties:\n",
    "    p = input(\"Please enter your %s: \" %prop)\n",
    "    \n",
    "    while True:\n",
    "        if ((prop == 'name') or (prop == 'surname')):\n",
    "            if (p.isalpha() != True):\n",
    "                print(prop,\"is Invalid!\")\n",
    "                False\n",
    "                \n",
    "            else:\n",
    "                person[prop] = p_type(p)\n",
    "                break\n",
    "        \n",
    "        elif (prop == 'age'):\n",
    "            try:\n",
    "                p = int(p)\n",
    "                person[prop] = p_type(p)\n",
    "                break\n",
    "            \n",
    "            except ValueError as err:\n",
    "                print (\"Error:\",err)\n",
    "                False\n",
    "                \n",
    "        elif ((prop == 'height') or (prop == 'weight')):\n",
    "            try: \n",
    "                p = float(p)\n",
    "                person[prop] = p_type(p)\n",
    "                break\n",
    "                \n",
    "            except ValueError as err:\n",
    "                print (\"Error:\",err)\n",
    "                False\n",
    "                \n",
    "        p = input(\"Please enter your %s: \" %prop)\n",
    "                \n",
    "print(\"Thanks for your precious time. Don't worry, your info. will be kept safe.\")"
   ]
  },
  {
   "cell_type": "code",
   "execution_count": null,
   "metadata": {
    "collapsed": true
   },
   "outputs": [],
   "source": []
  }
 ],
 "metadata": {
  "kernelspec": {
   "display_name": "Python 3",
   "language": "python",
   "name": "python3"
  },
  "language_info": {
   "codemirror_mode": {
    "name": "ipython",
    "version": 3
   },
   "file_extension": ".py",
   "mimetype": "text/x-python",
   "name": "python",
   "nbconvert_exporter": "python",
   "pygments_lexer": "ipython3",
   "version": "3.6.2"
  }
 },
 "nbformat": 4,
 "nbformat_minor": 2
}
