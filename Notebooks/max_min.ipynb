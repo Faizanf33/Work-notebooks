{
 "cells": [
  {
   "cell_type": "code",
   "execution_count": 35,
   "metadata": {},
   "outputs": [
    {
     "data": {
      "text/plain": [
       "('Minimum value :', -323213, ', Maximum value :', 465657)"
      ]
     },
     "execution_count": 35,
     "metadata": {},
     "output_type": "execute_result"
    }
   ],
   "source": [
    "def max_min_function(*args):\n",
    "    ls = list(args)\n",
    "    min_value, max_value = [], [] \n",
    "\n",
    "    for value in ls:\n",
    "        if not min_value:\n",
    "            min_value = value\n",
    "        elif value < min_value:\n",
    "            min_value = value\n",
    "            \n",
    "    for value in ls:\n",
    "        if not max_value:\n",
    "            max_value = value\n",
    "            \n",
    "        elif value > max_value:\n",
    "            max_value = value\n",
    "            \n",
    "    return \"Minimum value :\",min_value,\", Maximum value :\",max_value\n",
    "\n",
    "max_min_function(121,23,2132,-12,-323213,-32,32323,34,5454,465657)"
   ]
  },
  {
   "cell_type": "code",
   "execution_count": 103,
   "metadata": {},
   "outputs": [
    {
     "data": {
      "text/plain": [
       "('Minimum value :', -123213, ', Maximum value :', 190)"
      ]
     },
     "execution_count": 103,
     "metadata": {},
     "output_type": "execute_result"
    }
   ],
   "source": [
    "def max_min_function(*args, ls = []):\n",
    "    if not args == ():\n",
    "        ls = list(args)\n",
    "    min_value, max_value = [], [] \n",
    "    \n",
    "    for value in ls:\n",
    "        if not (min_value or max_value):\n",
    "            min_value, max_value = value, value\n",
    "            \n",
    "        if (value < min_value):\n",
    "            min_value = value\n",
    "        \n",
    "        if (value > max_value):\n",
    "            max_value = value\n",
    "                        \n",
    "    return \"Minimum value :\",min_value,\", Maximum value :\",max_value\n",
    "\n",
    "max_min_function(1,2,3,4,5,-2,-123213,213-23)"
   ]
  },
  {
   "cell_type": "code",
   "execution_count": 52,
   "metadata": {},
   "outputs": [
    {
     "name": "stdout",
     "output_type": "stream",
     "text": [
      "Enter a number: 15\n",
      "15 is Odd\n"
     ]
    }
   ],
   "source": [
    "num = int(input(\"Enter a number: \"))\n",
    "if (num % 2) == 0:\n",
    "   print(\"{0} is Even\".format(num))\n",
    "else:\n",
    "   print(\"{0} is Odd\".format(num))"
   ]
  },
  {
   "cell_type": "code",
   "execution_count": 71,
   "metadata": {},
   "outputs": [
    {
     "name": "stdout",
     "output_type": "stream",
     "text": [
      "Enter a number: 15\n",
      "15 is not a prime number\n",
      "3 times 5 is 15\n"
     ]
    }
   ],
   "source": [
    "#num = 407\n",
    "\n",
    "# take input from the user\n",
    "num = int(input(\"Enter a number: \"))\n",
    "\n",
    "if num <= 1:\n",
    "    print (num, \"is a prime number\")\n",
    "# prime numbers are greater than 1\n",
    "elif num > 1:\n",
    "    # check for factors\n",
    "    for i in range(2,num):\n",
    "        if (num % i) == 0:\n",
    "            print(num,\"is not a prime number\")\n",
    "            print(i,\"times\",num//i,\"is\",num)\n",
    "            break\n",
    "    else:\n",
    "        print(num,\"is a prime number\")\n",
    "\n",
    "# if input number is less than\n",
    "# or equal to 1, it is not prime\n",
    "\n",
    "else:\n",
    "    print(num,\"is not a prime number\")"
   ]
  },
  {
   "cell_type": "code",
   "execution_count": 85,
   "metadata": {
    "collapsed": true
   },
   "outputs": [],
   "source": [
    "def min_num(*args):\n",
    "    args = list(args)\n",
    "    min_value = []\n",
    "    \n",
    "    for num in args:\n",
    "        if not min_value:\n",
    "            min_value = num\n",
    "            \n",
    "        elif num < min_value:\n",
    "            min_value = num\n",
    "            \n",
    "    return min_value\n",
    "    "
   ]
  },
  {
   "cell_type": "code",
   "execution_count": 88,
   "metadata": {},
   "outputs": [
    {
     "data": {
      "text/plain": [
       "-1"
      ]
     },
     "execution_count": 88,
     "metadata": {},
     "output_type": "execute_result"
    }
   ],
   "source": [
    "min_num(1,2,3,4,1,-1,55,2,33,4)"
   ]
  },
  {
   "cell_type": "code",
   "execution_count": null,
   "metadata": {
    "collapsed": true
   },
   "outputs": [],
   "source": []
  }
 ],
 "metadata": {
  "kernelspec": {
   "display_name": "Python 3",
   "language": "python",
   "name": "python3"
  },
  "language_info": {
   "codemirror_mode": {
    "name": "ipython",
    "version": 3
   },
   "file_extension": ".py",
   "mimetype": "text/x-python",
   "name": "python",
   "nbconvert_exporter": "python",
   "pygments_lexer": "ipython3",
   "version": "3.6.2"
  }
 },
 "nbformat": 4,
 "nbformat_minor": 2
}
