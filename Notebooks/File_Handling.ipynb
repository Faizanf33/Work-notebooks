{
 "cells": [
  {
   "cell_type": "code",
   "execution_count": 1,
   "metadata": {
    "collapsed": true
   },
   "outputs": [],
   "source": [
    "import os"
   ]
  },
  {
   "cell_type": "code",
   "execution_count": 2,
   "metadata": {},
   "outputs": [
    {
     "name": "stdout",
     "output_type": "stream",
     "text": [
      "Presentation:\r\n",
      "\r\n",
      "    The presentation will be begin from 05 March 2018\r\n",
      "    Groups shall have 4 members, in each.\r\n",
      "    The presentations shall be taken roll numberwise.\r\n",
      "    All the group members shall be present for presentation but in any case the any one member fails to show for their respective presentaiton then the group will continue to present even in his or her absence. therefore,the absentees will not be entertained.\r\n",
      "    The time duration of a presentation should be 10 minutes, exceeding the time duration will lead to negative marking\r\n",
      "    The topic should be managed according to given time and the content of the presentation should be upto the standard.\r\n",
      "\r\n",
      "VLOG Submission: \r\n",
      "\r\n",
      "    The VLOG should be submitted to the C.R. of their respective sections A & B on 13 March 2018\r\n",
      "    The VLog shall present the individual particiapants' communicative skils i.e. verbal & nonverbal skills.\r\n",
      "    The content of the VLOG should be worth presenting, as well.\r\n",
      "    Late submission  shall not be entertained.\r\n",
      "     \r\n",
      "\r\n",
      "Assignment Submission:\r\n",
      "\r\n",
      "    The deadline for submitting assignemnt is 16 April 2018.\r\n",
      "    The late submission shall not be entertained.\r\n",
      "    Assgiment Topic: Make short notes of the lectures as well as write new paragraph on any topic of your choice utilising the features of a paragraph.\r\n",
      "\n"
     ]
    }
   ],
   "source": [
    "Dir = \"/home/faizanf33/Desktop\"\n",
    "File = \"English Comp..txt\"\n",
    "filename = os.path.join(Dir,File)\n",
    "with open(filename,\"r\") as f:\n",
    "    s = f.read()\n",
    "    #d = s.split(\"\\n\")\n",
    "    print (s)\n",
    "    #print (d)\n",
    "    f.close()\n"
   ]
  },
  {
   "cell_type": "code",
   "execution_count": 23,
   "metadata": {},
   "outputs": [
    {
     "name": "stdout",
     "output_type": "stream",
     "text": [
      "Enter a number: 15\n",
      "3.87298334621\n",
      "Enter a number: 100\n",
      "10000\n",
      "Enter a number: 10001\n",
      "100.004999875\n",
      "Enter a number: 0\n"
     ]
    }
   ],
   "source": [
    "from math import sqrt\n",
    "def func():\n",
    "    n = input(\"Enter a number: \")\n",
    "    while n!=0:\n",
    "        if n%2 == 0:\n",
    "            s =  n*n\n",
    "        else:\n",
    "            s = sqrt(n)\n",
    "        print (s)\n",
    "        n = input(\"Enter a number: \")\n",
    "    return\n",
    "\n",
    "func()"
   ]
  },
  {
   "cell_type": "code",
   "execution_count": 24,
   "metadata": {
    "collapsed": true
   },
   "outputs": [],
   "source": [
    "y=list(\"cat\")"
   ]
  },
  {
   "cell_type": "code",
   "execution_count": 25,
   "metadata": {},
   "outputs": [
    {
     "data": {
      "text/plain": [
       "2"
      ]
     },
     "execution_count": 25,
     "metadata": {},
     "output_type": "execute_result"
    }
   ],
   "source": [
    "y.index(\"t\")"
   ]
  },
  {
   "cell_type": "code",
   "execution_count": 26,
   "metadata": {},
   "outputs": [
    {
     "data": {
      "text/plain": [
       "3"
      ]
     },
     "execution_count": 26,
     "metadata": {},
     "output_type": "execute_result"
    }
   ],
   "source": [
    "len(y)"
   ]
  },
  {
   "cell_type": "code",
   "execution_count": 61,
   "metadata": {
    "collapsed": true
   },
   "outputs": [],
   "source": [
    "li = [0,5,8]"
   ]
  },
  {
   "cell_type": "code",
   "execution_count": 62,
   "metadata": {
    "collapsed": true
   },
   "outputs": [],
   "source": [
    "li.append(8)"
   ]
  },
  {
   "cell_type": "code",
   "execution_count": 63,
   "metadata": {},
   "outputs": [
    {
     "name": "stdout",
     "output_type": "stream",
     "text": [
      "[0, 5, 8, 8]\n"
     ]
    }
   ],
   "source": [
    "print li"
   ]
  },
  {
   "cell_type": "code",
   "execution_count": 64,
   "metadata": {
    "collapsed": true
   },
   "outputs": [],
   "source": [
    "li.insert(1,3)"
   ]
  },
  {
   "cell_type": "code",
   "execution_count": 65,
   "metadata": {},
   "outputs": [
    {
     "name": "stdout",
     "output_type": "stream",
     "text": [
      "[0, 3, 5, 8, 8]\n"
     ]
    }
   ],
   "source": [
    "print li"
   ]
  },
  {
   "cell_type": "code",
   "execution_count": 66,
   "metadata": {},
   "outputs": [
    {
     "data": {
      "text/plain": [
       "3"
      ]
     },
     "execution_count": 66,
     "metadata": {},
     "output_type": "execute_result"
    }
   ],
   "source": [
    "li.index(8)"
   ]
  },
  {
   "cell_type": "code",
   "execution_count": 67,
   "metadata": {
    "collapsed": true
   },
   "outputs": [],
   "source": [
    "li.reverse()"
   ]
  },
  {
   "cell_type": "code",
   "execution_count": 68,
   "metadata": {},
   "outputs": [
    {
     "name": "stdout",
     "output_type": "stream",
     "text": [
      "[8, 8, 5, 3, 0]\n"
     ]
    }
   ],
   "source": [
    "print li"
   ]
  },
  {
   "cell_type": "code",
   "execution_count": 69,
   "metadata": {
    "collapsed": true
   },
   "outputs": [],
   "source": [
    "li.sort(reverse =True)"
   ]
  },
  {
   "cell_type": "code",
   "execution_count": 70,
   "metadata": {},
   "outputs": [
    {
     "name": "stdout",
     "output_type": "stream",
     "text": [
      "[8, 8, 5, 3, 0]\n"
     ]
    }
   ],
   "source": [
    "print li"
   ]
  },
  {
   "cell_type": "code",
   "execution_count": 74,
   "metadata": {},
   "outputs": [
    {
     "name": "stdout",
     "output_type": "stream",
     "text": [
      "L.sort(cmp=None, key=None, reverse=False) -- stable sort *IN PLACE*;\n",
      "cmp(x, y) -> -1, 0, 1\n"
     ]
    }
   ],
   "source": [
    "print list.sort.__doc__"
   ]
  },
  {
   "cell_type": "code",
   "execution_count": null,
   "metadata": {
    "collapsed": true
   },
   "outputs": [],
   "source": []
  }
 ],
 "metadata": {
  "kernelspec": {
   "display_name": "Python 2",
   "language": "python",
   "name": "python2"
  },
  "language_info": {
   "codemirror_mode": {
    "name": "ipython",
    "version": 2
   },
   "file_extension": ".py",
   "mimetype": "text/x-python",
   "name": "python",
   "nbconvert_exporter": "python",
   "pygments_lexer": "ipython2",
   "version": "2.7.13"
  }
 },
 "nbformat": 4,
 "nbformat_minor": 2
}
