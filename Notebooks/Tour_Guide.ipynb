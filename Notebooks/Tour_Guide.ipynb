{
 "cells": [
  {
   "cell_type": "code",
   "execution_count": 47,
   "metadata": {},
   "outputs": [],
   "source": [
    "Obj = \"\"\"\n",
    "Objectives:\n",
    "\n",
    "1. Distance in km/m between selected locations.\n",
    "2. Weather condition of destined city.\n",
    "2. Fare and Time for different sources of travelling.\n",
    "3. Famous places to visit in destined city.\n",
    "4. Cities in between selected locations.\n",
    "5. Best suited source for travelling.\n",
    "\n",
    "\"\"\""
   ]
  },
  {
   "cell_type": "code",
   "execution_count": 4,
   "metadata": {
    "collapsed": true
   },
   "outputs": [],
   "source": [
    "import urllib.request\n",
    "local_filename, headers = urllib.request.urlretrieve('http://python.org/')\n",
    "html = open(local_filename)"
   ]
  },
  {
   "cell_type": "code",
   "execution_count": 29,
   "metadata": {},
   "outputs": [],
   "source": [
    "req = urllib.request.Request('https://www.google.com')\n",
    "with urllib.request.urlopen(req) as response:\n",
    "    the_page  = response.readlines()"
   ]
  },
  {
   "cell_type": "code",
   "execution_count": 25,
   "metadata": {},
   "outputs": [
    {
     "name": "stdout",
     "output_type": "stream",
     "text": [
      ":::: Welcome To Tour Guide! :::: \n",
      "\n",
      "From (city): Multan\n",
      "To (city): Lahore\n",
      "Distance between Multan and Lahore is 351.6 km\n"
     ]
    }
   ],
   "source": [
    "def tour_guide():\n",
    "    d_tour = data()\n",
    "    #print (d_tour)\n",
    "    welcome = \":::: Welcome To Tour Guide! :::: \\n\"\n",
    "    print(welcome)\n",
    "    start_location, end_location = input(\"From (city): \"), input(\"To (city): \") \n",
    "    tour = str(start_location.lower())+\"_to_\"+str(end_location.lower())\n",
    "    \n",
    "    if tour in d_tour.keys():\n",
    "        print (\"Distance between\",start_location,\"and\",end_location,\"is\",d_tour[tour],\"km.\")\n",
    "    \n",
    "tour_guide()"
   ]
  },
  {
   "cell_type": "code",
   "execution_count": 14,
   "metadata": {},
   "outputs": [],
   "source": [
    "def data():\n",
    "    d_tour = {\n",
    "        \"multan_to_lahore\" : 351.6\n",
    "    }\n",
    "    return d_tour"
   ]
  },
  {
   "cell_type": "code",
   "execution_count": null,
   "metadata": {
    "collapsed": true
   },
   "outputs": [],
   "source": []
  }
 ],
 "metadata": {
  "kernelspec": {
   "display_name": "Python 3",
   "language": "python",
   "name": "python3"
  },
  "language_info": {
   "codemirror_mode": {
    "name": "ipython",
    "version": 3
   },
   "file_extension": ".py",
   "mimetype": "text/x-python",
   "name": "python",
   "nbconvert_exporter": "python",
   "pygments_lexer": "ipython3",
   "version": "3.6.2"
  }
 },
 "nbformat": 4,
 "nbformat_minor": 2
}
