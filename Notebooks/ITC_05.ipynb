{
 "cells": [
  {
   "cell_type": "code",
   "execution_count": 16,
   "metadata": {
    "collapsed": true
   },
   "outputs": [],
   "source": [
    "def Calc_Weakly_Wage(Total_hrs, Wage_Per_hr):\n",
    "    \"\"\"\n",
    "    \n",
    "    \"\"\"\n",
    "    if Total_hrs <= 0:\n",
    "        return None\n",
    "    \n",
    "    elif Total_hrs > 0 and Total_hrs <= 40:\n",
    "        Total_Wage = Total_hrs * Wage_Per_hr\n",
    "        return Total_Wage\n",
    "    \n",
    "    else:\n",
    "        Overtime = (Total_hrs - 40)\n",
    "        #Hourly_Wage = (Wage_Per_hr * 1.5)\n",
    "        #Overtime_Wage = Hourly_Wage * Overtime\n",
    "        #Total_Wage = (40 * Wage_Per_hr) + Overtime_Wage\n",
    "        \n",
    "        Total_Wage = (40 * Wage_Per_hr) + ((Wage_Per_hr * 1.5) * Overtime)\n",
    "        return Total_Wage"
   ]
  },
  {
   "cell_type": "code",
   "execution_count": 17,
   "metadata": {},
   "outputs": [
    {
     "data": {
      "text/plain": [
       "40"
      ]
     },
     "execution_count": 17,
     "metadata": {},
     "output_type": "execute_result"
    }
   ],
   "source": [
    "Calc_Weakly_Wage(20,2)"
   ]
  },
  {
   "cell_type": "code",
   "execution_count": 18,
   "metadata": {},
   "outputs": [
    {
     "data": {
      "text/plain": [
       "110.0"
      ]
     },
     "execution_count": 18,
     "metadata": {},
     "output_type": "execute_result"
    }
   ],
   "source": [
    "Calc_Weakly_Wage(50,2)"
   ]
  },
  {
   "cell_type": "code",
   "execution_count": null,
   "metadata": {
    "collapsed": true
   },
   "outputs": [],
   "source": []
  }
 ],
 "metadata": {
  "kernelspec": {
   "display_name": "Python 2",
   "language": "python",
   "name": "python2"
  },
  "language_info": {
   "codemirror_mode": {
    "name": "ipython",
    "version": 2
   },
   "file_extension": ".py",
   "mimetype": "text/x-python",
   "name": "python",
   "nbconvert_exporter": "python",
   "pygments_lexer": "ipython2",
   "version": "2.7.13"
  }
 },
 "nbformat": 4,
 "nbformat_minor": 2
}
