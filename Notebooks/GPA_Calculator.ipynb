{
 "cells": [
  {
   "cell_type": "code",
   "execution_count": 9,
   "metadata": {
    "collapsed": true
   },
   "outputs": [],
   "source": [
    "def calculate_sgpa(grade1 , grade2 , grade3):\n",
    "    Total_marks = 0\n",
    "    Total_number_of_subjects = 0\n",
    "    if grade1 != 'nothing':\n",
    "        Total_number_of_subjects += 1.0\n",
    "        if grade1 == \"A\":\n",
    "            Total_marks += 4.00\n",
    "        elif grade1 == \"B\":\n",
    "            Total_marks += 3.00\n",
    "        elif grade1 == \"C\":\n",
    "            Total_marks += 2.00\n",
    "        elif grade1 == \"D\":\n",
    "            Total_marks += 1.00\n",
    "        elif grade1 == \"F\":\n",
    "            Total_marks += 0.00\n",
    "    if grade2 != 'nothing':\n",
    "        Total_number_of_subjects += 1.0\n",
    "        if grade2 == \"A\":\n",
    "            Total_marks += 4.00\n",
    "        elif grade2 == \"B\":\n",
    "            Total_marks += 3.00\n",
    "        elif grade2 == \"C\":\n",
    "            Total_marks += 2.00\n",
    "        elif grade2 == \"D\":\n",
    "            Total_marks += 1.00\n",
    "        elif grade2 == \"F\":\n",
    "            Total_marks += 0.00\n",
    "    if grade3 != 'nothing':\n",
    "        Total_number_of_subjects += 1.0\n",
    "        if grade3 == \"A\":\n",
    "            Total_marks += 4.00\n",
    "        elif grade3 == \"B\":\n",
    "            Total_marks += 3.00\n",
    "        elif grade3 == \"C\":\n",
    "            Total_marks += 2.00\n",
    "        elif grade3 == \"D\":\n",
    "            Total_marks += 1.00\n",
    "        elif grade3 == \"F\":\n",
    "            Total_marks += 0.00\n",
    "    elif Total_number_of_subjects == 0:\n",
    "        return 0\n",
    "    else:\n",
    "        return 0\n",
    "    print Total_marks\n",
    "    print Total_number_of_subjects\n",
    "    SGPA = Total_marks/Total_number_of_subjects\n",
    "    return SGPA"
   ]
  },
  {
   "cell_type": "code",
   "execution_count": 10,
   "metadata": {},
   "outputs": [
    {
     "name": "stdout",
     "output_type": "stream",
     "text": [
      "10.0\n",
      "3.0\n"
     ]
    },
    {
     "data": {
      "text/plain": [
       "3.3333333333333335"
      ]
     },
     "execution_count": 10,
     "metadata": {},
     "output_type": "execute_result"
    }
   ],
   "source": [
    "calculate_sgpa('A','A','C')"
   ]
  },
  {
   "cell_type": "code",
   "execution_count": null,
   "metadata": {
    "collapsed": true
   },
   "outputs": [],
   "source": []
  }
 ],
 "metadata": {
  "kernelspec": {
   "display_name": "Python 2",
   "language": "python",
   "name": "python2"
  },
  "language_info": {
   "codemirror_mode": {
    "name": "ipython",
    "version": 2
   },
   "file_extension": ".py",
   "mimetype": "text/x-python",
   "name": "python",
   "nbconvert_exporter": "python",
   "pygments_lexer": "ipython2",
   "version": "2.7.13"
  }
 },
 "nbformat": 4,
 "nbformat_minor": 2
}
