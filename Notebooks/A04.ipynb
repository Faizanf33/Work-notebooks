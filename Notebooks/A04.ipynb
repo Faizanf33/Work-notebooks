{
 "cells": [
  {
   "cell_type": "code",
   "execution_count": 19,
   "metadata": {},
   "outputs": [
    {
     "data": {
      "text/plain": [
       "(['a', 12], ['a', 12, 'bb', 'b', '12'])"
      ]
     },
     "execution_count": 19,
     "metadata": {},
     "output_type": "execute_result"
    }
   ],
   "source": [
    "def uniqueEntries(n):\n",
    "    #Original Order = [12, 24, 35, 24, 88, 120, 155, 88, 120, 155]\n",
    "    uv = []\n",
    "    dI = []\n",
    "    for i in n:\n",
    "        if (i in uv): \n",
    "            dI.append(i)\n",
    "        else:\n",
    "            uv.append(i)\n",
    "    return dI,uv\n",
    "            \n",
    "            \n",
    "uniqueEntries(['a',12,'a','bb','b',12,'12'])\n",
    "#print uniqueEntries(\"I love 63963396\")"
   ]
  },
  {
   "cell_type": "code",
   "execution_count": 17,
   "metadata": {},
   "outputs": [
    {
     "data": {
      "text/plain": [
       "tuple"
      ]
     },
     "execution_count": 17,
     "metadata": {},
     "output_type": "execute_result"
    }
   ],
   "source": [
    "def floo(a,b,c):\n",
    "    return a,b,c\n",
    "type(floo(1,2,3))\n",
    "    "
   ]
  },
  {
   "cell_type": "code",
   "execution_count": null,
   "metadata": {
    "collapsed": true
   },
   "outputs": [],
   "source": []
  }
 ],
 "metadata": {
  "kernelspec": {
   "display_name": "Python 2",
   "language": "python",
   "name": "python2"
  },
  "language_info": {
   "codemirror_mode": {
    "name": "ipython",
    "version": 2
   },
   "file_extension": ".py",
   "mimetype": "text/x-python",
   "name": "python",
   "nbconvert_exporter": "python",
   "pygments_lexer": "ipython2",
   "version": "2.7.13"
  }
 },
 "nbformat": 4,
 "nbformat_minor": 2
}
