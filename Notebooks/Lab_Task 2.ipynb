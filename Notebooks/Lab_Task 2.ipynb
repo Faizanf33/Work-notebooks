{
 "cells": [
  {
   "cell_type": "code",
   "execution_count": 22,
   "metadata": {},
   "outputs": [
    {
     "name": "stdout",
     "output_type": "stream",
     "text": [
      "Enter a variable12\n",
      "Enter a variable15\n",
      "Sum = 27\n",
      "Difference = -3\n",
      "Product = 180\n",
      "Division = 0.8\n"
     ]
    }
   ],
   "source": [
    "def calculator():\n",
    "    a = raw_input(\"Enter a variable\")\n",
    "    b = raw_input(\"Enter a variable\")\n",
    "\n",
    "    x = int(a)\n",
    "    y = int(b)\n",
    "    add = x + y\n",
    "    sub = x - y\n",
    "    mul = x * y\n",
    "    div = x / float(y)\n",
    "    \n",
    "    print \"Sum =\",add\n",
    "    print \"Difference =\",sub\n",
    "    print \"Product =\",mul\n",
    "    print \"Division =\",div\n",
    "calculator()"
   ]
  },
  {
   "cell_type": "code",
   "execution_count": 6,
   "metadata": {},
   "outputs": [
    {
     "name": "stdout",
     "output_type": "stream",
     "text": [
      "Enter length 12\n",
      "Enter width12\n",
      "Perimeter = 48\n"
     ]
    }
   ],
   "source": [
    "def Perimeter():\n",
    "    l = input(\"Enter length \")\n",
    "    w = input(\"Enter width\")\n",
    "    p = 2 * (l + w)\n",
    "    print \"Perimeter =\",p\n",
    "Perimeter()"
   ]
  },
  {
   "cell_type": "code",
   "execution_count": 3,
   "metadata": {
    "collapsed": true
   },
   "outputs": [],
   "source": [
    "from math import pi"
   ]
  },
  {
   "cell_type": "code",
   "execution_count": 5,
   "metadata": {},
   "outputs": [
    {
     "name": "stdout",
     "output_type": "stream",
     "text": [
      "Enter radius 12\n",
      "Diameter = 24\n",
      "Circumference = 75.3982236862\n",
      "Area = 452.389342117\n"
     ]
    }
   ],
   "source": [
    "def Circle():\n",
    "    r = input(\"Enter radius \")\n",
    "    D = 2 * r\n",
    "    C = 2 * pi * r\n",
    "    A = pi * pow(r , 2)\n",
    "    print \"Diameter =\",D \n",
    "    print \"Circumference =\",C \n",
    "    print \"Area =\",A\n",
    "Circle()"
   ]
  },
  {
   "cell_type": "code",
   "execution_count": 7,
   "metadata": {},
   "outputs": [
    {
     "name": "stdout",
     "output_type": "stream",
     "text": [
      "Enter length in cm150000\n",
      "1500.0 meter\n",
      "1.5 kilometer\n"
     ]
    }
   ],
   "source": [
    "def converter():\n",
    "    cm = input(\"Enter length in cm\")\n",
    "    m = cm / 100.0\n",
    "    km = cm / 100000.0\n",
    "    print m,\"meter\"\n",
    "    print km,\"kilometer\"\n",
    "converter()"
   ]
  },
  {
   "cell_type": "code",
   "execution_count": 19,
   "metadata": {},
   "outputs": [
    {
     "name": "stdout",
     "output_type": "stream",
     "text": [
      "Enter Temp. in `C 32\n",
      "89.6 `F\n",
      "Enter Temp. in `F 89.6\n",
      "32.0 `C\n"
     ]
    }
   ],
   "source": [
    "def temp_converter():\n",
    "    C = input(\"Enter Temp. in `C \")\n",
    "    F = (C * 9/5.0) + 32\n",
    "    print F,\"`F\"\n",
    "    \n",
    "    F = input(\"Enter Temp. in `F \")\n",
    "    C = (F - 32) * 5/9.0\n",
    "    print C,\"`C\"\n",
    "temp_converter()"
   ]
  }
 ],
 "metadata": {
  "kernelspec": {
   "display_name": "Python 3",
   "language": "python",
   "name": "python3"
  },
  "language_info": {
   "codemirror_mode": {
    "name": "ipython",
    "version": 3
   },
   "file_extension": ".py",
   "mimetype": "text/x-python",
   "name": "python",
   "nbconvert_exporter": "python",
   "pygments_lexer": "ipython3",
   "version": "3.6.3"
  }
 },
 "nbformat": 4,
 "nbformat_minor": 2
}
