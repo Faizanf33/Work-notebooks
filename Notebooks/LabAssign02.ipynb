{
 "cells": [
  {
   "cell_type": "markdown",
   "metadata": {},
   "source": [
    "# Question 1 "
   ]
  },
  {
   "cell_type": "code",
   "execution_count": 13,
   "metadata": {},
   "outputs": [
    {
     "name": "stdout",
     "output_type": "stream",
     "text": [
      "1 1 2 3 5 8 13 21 34\n"
     ]
    }
   ],
   "source": [
    "def fib():\n",
    "    a ,b = 0 ,1\n",
    "    \n",
    "    while b < 50:\n",
    "        print (b),\n",
    "        a, b = b, a + b\n",
    "\n",
    "fib() "
   ]
  },
  {
   "cell_type": "markdown",
   "metadata": {},
   "source": [
    "# Question 2 "
   ]
  },
  {
   "cell_type": "code",
   "execution_count": 14,
   "metadata": {},
   "outputs": [
    {
     "name": "stdout",
     "output_type": "stream",
     "text": [
      "List of months: January, February, March, April, May, June, July, August , September, October, November, December \n",
      "Input the name of Month : May\n",
      "No. of days: 31 days\n"
     ]
    }
   ],
   "source": [
    "def month_days():\n",
    "    print \"List of months: January, February, March, April, May, June, July, August , September, October, November, December \"\n",
    "    month = raw_input(\"Input the name of Month : \")\n",
    "    \n",
    "    days_28_29 = \"February\"\n",
    "    days_30 = [\"April\", \"June\", \"September\", \"November\"] \n",
    "    days_31 = [\"January\", \"March\", \"May\", \"July\", \"August\", \"October\", \"December\"]\n",
    "    \n",
    "    if month in days_30:\n",
    "        print (\"No. of days: 30 days\")\n",
    "    \n",
    "    elif month in days_31:\n",
    "        print (\"No. of days: 31 days\")\n",
    "    \n",
    "    elif month == days_28_29:\n",
    "        print (\"No. of days: 28/29 days\")\n",
    "    \n",
    "    else:\n",
    "        print (\"Please Enter complete/right Month Name!\")\n",
    "        return month_days()\n",
    "                \n",
    "month_days()"
   ]
  },
  {
   "cell_type": "markdown",
   "metadata": {},
   "source": [
    "# Question 3 "
   ]
  },
  {
   "cell_type": "code",
   "execution_count": 15,
   "metadata": {},
   "outputs": [
    {
     "name": "stdout",
     "output_type": "stream",
     "text": [
      "Input a letter of the alphabet: 4\n",
      "('4', 'is neither a vowel or a consonant.')\n"
     ]
    }
   ],
   "source": [
    "def check_alphabet():\n",
    "    alpha = raw_input(\"Input a letter of the alphabet: \")\n",
    "    v = \"A,a,E,e,I,i,O,o,U,u\"\n",
    "    c = \"Q,W,R,T,Y,P,S,D,F,G,H,J,K,L,Z,X,C,V,B,N,M,q,w,r,t,y,p,s,d,f,g,h,j,k,l,z,x,c,v,b,n,m\"\n",
    "    \n",
    "    if alpha in v:\n",
    "        print (alpha,\"is a vowel.\")\n",
    "    \n",
    "    elif alpha in c:\n",
    "        print (alpha,\"is a consonant.\")\n",
    "    \n",
    "    else:\n",
    "        print (alpha,\"is neither a vowel or a consonant.\")\n",
    "        \n",
    "check_alphabet()"
   ]
  },
  {
   "cell_type": "markdown",
   "metadata": {},
   "source": [
    "# Question 4 "
   ]
  },
  {
   "cell_type": "code",
   "execution_count": 16,
   "metadata": {},
   "outputs": [
    {
     "name": "stdout",
     "output_type": "stream",
     "text": [
      "Input a string: 1234567890\n",
      "The string is an integer.\n"
     ]
    }
   ],
   "source": [
    "def check_string():\n",
    "    s = raw_input(\"Input a string: \")\n",
    "    \n",
    "    if s.isalpha() == True:\n",
    "        print (\"The string is not an integer.\")\n",
    "    \n",
    "    elif s.isdigit() == True:\n",
    "        print (\"The string is an integer.\")\n",
    "            \n",
    "        \n",
    "check_string()"
   ]
  },
  {
   "cell_type": "markdown",
   "metadata": {
    "collapsed": true
   },
   "source": [
    "# Question 5 "
   ]
  },
  {
   "cell_type": "code",
   "execution_count": 17,
   "metadata": {},
   "outputs": [
    {
     "name": "stdout",
     "output_type": "stream",
     "text": [
      "Enter a sentence: Lol\n",
      "('UPPER CASE', 1)\n",
      "('LOWER CASE', 2)\n"
     ]
    }
   ],
   "source": [
    "def check_case():\n",
    "    s = raw_input(\"Enter a sentence: \")\n",
    "    uc = 0\n",
    "    lc = 0\n",
    "    \n",
    "    for l in s:     \n",
    "        if l.isupper() == True:\n",
    "            uc += 1\n",
    "        elif l.islower() == True:\n",
    "            lc += 1\n",
    "    \n",
    "    print (\"UPPER CASE\",uc)\n",
    "    print (\"LOWER CASE\",lc)\n",
    "        \n",
    "check_case()"
   ]
  },
  {
   "cell_type": "markdown",
   "metadata": {
    "collapsed": true
   },
   "source": [
    "# Question 6"
   ]
  },
  {
   "cell_type": "code",
   "execution_count": 20,
   "metadata": {
    "collapsed": true,
    "slideshow": {
     "slide_type": "slide"
    }
   },
   "outputs": [],
   "source": [
    "def astrological_sign():\n",
    "    b_day = int(input(\"Input birthday (1 - 31) : \"))\n",
    "    \n",
    "    if b_day < 1 or b_day > 31:\n",
    "        print (\"Please enter correct day!\")\n",
    "        return astrological_sign()\n",
    "\n",
    "    b_month = raw_input(\"Input month of birth (e.g. march, july etc): \")\n",
    "    \n",
    "    if b_month == \"february\" and b_day >29:\n",
    "        count = 0\n",
    "        while (b_day < 1 or b_day > 29) and count < 3:\n",
    "            print (\"Invalid Date!\")\n",
    "            b_day = input(\"Input birthday (1 - 29) : \")\n",
    "            count += 1\n",
    "        if count >= 3:\n",
    "            print (\"You have Entered Invalid Date more than Twice!\")\n",
    "            return None\n",
    "    astr = \"\"\n",
    "    \n",
    "    if b_month == \"april\":\n",
    "        if b_day <= 20: astr = \"Aries\"\n",
    "        else: astr = \"Taurus\"\n",
    "    \n",
    "    elif b_month == \"may\":\n",
    "        if b_day <= 20: astr = \"Taurus\"\n",
    "        else: astr = \"Gemini\"\n",
    "            \n",
    "    elif b_month == \"june\":\n",
    "        if b_day <= 20: astr = \"Gemini\"\n",
    "        else: astr = \"Cancer\"\n",
    "    \n",
    "    elif b_month == \"july\":\n",
    "        if b_day <= 22: astr = \"Cancer\"\n",
    "        else: astr = \"Leo\"\n",
    "            \n",
    "    elif b_month == \"august\":\n",
    "        if b_day <= 22: astr = \"Leo\"\n",
    "        else: astr = \"Virgo\"\n",
    "            \n",
    "    elif b_month == \"september\":\n",
    "        if b_day <= 22: astr = \"Virgo\"\n",
    "        else: astr = \"Libra\"\n",
    "            \n",
    "    elif b_month == \"october\":\n",
    "        if b_day <= 22: astr = \"Libra\"\n",
    "        else: astr = \"Scorpio\"\n",
    "            \n",
    "    elif b_month == \"november\":\n",
    "        if b_day <= 22: astr = \"Scorpio\"\n",
    "        else: astr = \"Sagittarius\"\n",
    "            \n",
    "    elif b_month == \"december\":\n",
    "        if b_day <= 21: astr = \"Sagittarius\"\n",
    "        else: astr = \"Capricorn\"\n",
    "            \n",
    "    elif b_month == \"january\":\n",
    "        if b_day <= 19: astr = \"Capricorn\"\n",
    "        else: astr = \"Aquarius\"\n",
    "            \n",
    "    elif b_month == \"february\":\n",
    "        if b_day <= 19: astr = \"Aquarius\"\n",
    "        else: astr = \"Pisces\"\n",
    "            \n",
    "    elif b_month == \"march\":\n",
    "        if b_day <= 20: astr = \"Pisces\"\n",
    "        else: astr = \"Aries\"\n",
    "        \n",
    "    else:\n",
    "        return None\n",
    "            \n",
    "    print(\"Your Astrological sign is :\",astr)"
   ]
  },
  {
   "cell_type": "code",
   "execution_count": 22,
   "metadata": {},
   "outputs": [
    {
     "name": "stdout",
     "output_type": "stream",
     "text": [
      "Input birthday (1 - 31) : 31\n",
      "Input month of birth (e.g. march, july etc): february\n",
      "Invalid Date!\n",
      "Input birthday (1 - 29) : 30\n",
      "Invalid Date!\n",
      "Input birthday (1 - 29) : 30\n",
      "Invalid Date!\n",
      "Input birthday (1 - 29) : 30\n",
      "('Your Astrological sign is :', 'Pisces')\n"
     ]
    }
   ],
   "source": [
    "astrological_sign()"
   ]
  },
  {
   "cell_type": "code",
   "execution_count": null,
   "metadata": {
    "collapsed": true
   },
   "outputs": [],
   "source": []
  }
 ],
 "metadata": {
  "kernelspec": {
   "display_name": "Python 2",
   "language": "python",
   "name": "python2"
  },
  "language_info": {
   "codemirror_mode": {
    "name": "ipython",
    "version": 2
   },
   "file_extension": ".py",
   "mimetype": "text/x-python",
   "name": "python",
   "nbconvert_exporter": "python",
   "pygments_lexer": "ipython2",
   "version": "2.7.13"
  }
 },
 "nbformat": 4,
 "nbformat_minor": 2
}
